{
 "cells": [
  {
   "cell_type": "code",
   "execution_count": 1,
   "metadata": {
    "ExecuteTime": {
     "end_time": "2019-01-18T20:44:13.364061Z",
     "start_time": "2019-01-18T20:44:10.274033Z"
    }
   },
   "outputs": [],
   "source": [
    "from pyspark import SparkContext, SparkConf\n",
    "from pyspark.sql import SparkSession\n",
    "from pyspark.sql import Row\n",
    "from pyspark.sql.types import *\n",
    "from pyspark.sql.functions import *\n",
    "from pyspark.sql import SQLContext\n",
    "from pyspark.ml.feature import VectorAssembler\n",
    "from pyspark.ml.evaluation import MulticlassClassificationEvaluator\n",
    "from pyspark.ml.classification import RandomForestClassifier\n",
    "from pyspark.sql.window import Window\n",
    "\n",
    "conf = SparkConf().setAppName(\"msds697_project\")\n",
    "sc = SparkContext(conf=conf)\n",
    "sc.setLogLevel(\"OFF\")\n",
    "ss = SparkSession.builder.getOrCreate()"
   ]
  },
  {
   "cell_type": "code",
   "execution_count": 2,
   "metadata": {
    "ExecuteTime": {
     "end_time": "2019-01-18T20:44:30.402400Z",
     "start_time": "2019-01-18T20:44:30.381345Z"
    }
   },
   "outputs": [],
   "source": [
    "schema = StructType([StructField(\"lat\", DoubleType(),True),\n",
    " StructField(\"lon\", DoubleType(),True),\n",
    " StructField(\"p\", IntegerType(),True),\n",
    "                     StructField(\"timestamp\", IntegerType(),True)])"
   ]
  },
  {
   "cell_type": "code",
   "execution_count": 3,
   "metadata": {
    "ExecuteTime": {
     "end_time": "2019-01-18T20:44:34.209942Z",
     "start_time": "2019-01-18T20:44:31.293218Z"
    }
   },
   "outputs": [
    {
     "name": "stdout",
     "output_type": "stream",
     "text": [
      "CPU times: user 236 ms, sys: 12 ms, total: 248 ms\n",
      "Wall time: 2.9 s\n"
     ]
    }
   ],
   "source": [
    "%%time \n",
    "filename = \"new_abgibo.txt\"\n",
    "sf_df = sc.textFile(filename).map(lambda x: x.split())\\\n",
    ".map(lambda x: (float(x[0]), float(x[1]), int(x[2]), int(x[3]))).toDF(schema).orderBy(\"timestamp\", ascending=True)"
   ]
  },
  {
   "cell_type": "code",
   "execution_count": 4,
   "metadata": {
    "ExecuteTime": {
     "end_time": "2019-01-18T20:44:44.004334Z",
     "start_time": "2019-01-18T20:44:34.215102Z"
    }
   },
   "outputs": [
    {
     "name": "stdout",
     "output_type": "stream",
     "text": [
      "CPU times: user 76 ms, sys: 24 ms, total: 100 ms\n",
      "Wall time: 9.78 s\n"
     ]
    }
   ],
   "source": [
    "%%time \n",
    "w = Window.orderBy(\"timestamp\")\n",
    "sf_df = sf_df.withColumn(\"prev_p\", lag('p',1).over(w))\n",
    "w = Window.orderBy(sf_df.timestamp.desc())\n",
    "sf_df = sf_df.withColumn(\"next_p\", lag('p',1).over(w))\n",
    "pickup_cond = ( (sf_df.p==1) & (sf_df.prev_p.isNull()) ) | ( (sf_df.p==1) & (sf_df.prev_p == 0) )\n",
    "dropoff_cond = ( (sf_df.p==1) & (sf_df.next_p.isNull()) ) | ( (sf_df.p==1) & (sf_df.next_p == 0) ) \n",
    "\n",
    "sf_df = sf_df.withColumn(\"is_pickup\", when(pickup_cond, 1).otherwise(0))\n",
    "sf_df = sf_df.withColumn(\"is_dropoff\", when(dropoff_cond, 1).otherwise(0))\n",
    "\n",
    "# exclusive or\n",
    "sf_df = sf_df.filter(sf_df.is_pickup != sf_df.is_dropoff )\n",
    " \n",
    "assert sf_df.filter(sf_df.is_pickup==1).count() == sf_df.filter(sf_df.is_dropoff==1).count()\n",
    "\n",
    "w = Window.orderBy(sf_df.timestamp.desc())\n",
    "sf_df = sf_df.withColumn(\"dropoff_lat\", lag('lat', 1).over(w))\n",
    "sf_df = sf_df.withColumn(\"dropoff_lon\", lag('lon', 1).over(w))\n",
    "\n",
    "sf_df = sf_df.filter(sf_df.is_pickup == 1)\n"
   ]
  },
  {
   "cell_type": "code",
   "execution_count": 5,
   "metadata": {
    "ExecuteTime": {
     "end_time": "2019-01-18T20:44:46.238397Z",
     "start_time": "2019-01-18T20:44:44.008841Z"
    }
   },
   "outputs": [
    {
     "name": "stdout",
     "output_type": "stream",
     "text": [
      "CPU times: user 24 ms, sys: 4 ms, total: 28 ms\n",
      "Wall time: 2.21 s\n"
     ]
    }
   ],
   "source": [
    "%%time\n",
    "sf_df.write.csv(filename.replace(\".txt\", \"\") + \"_pyspark.csv\")"
   ]
  }
 ],
 "metadata": {
  "kernelspec": {
   "display_name": "Python 3",
   "language": "python",
   "name": "python3"
  },
  "language_info": {
   "codemirror_mode": {
    "name": "ipython",
    "version": 3
   },
   "file_extension": ".py",
   "mimetype": "text/x-python",
   "name": "python",
   "nbconvert_exporter": "python",
   "pygments_lexer": "ipython3",
   "version": "3.6.7"
  }
 },
 "nbformat": 4,
 "nbformat_minor": 2
}
