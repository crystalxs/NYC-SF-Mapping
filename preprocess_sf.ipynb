{
 "cells": [
  {
   "cell_type": "code",
   "execution_count": 159,
   "metadata": {},
   "outputs": [],
   "source": [
    "import pandas as pd \n",
    "import numpy as np\n",
    "from datetime import datetime\n",
    "import glob, os"
   ]
  },
  {
   "cell_type": "code",
   "execution_count": 160,
   "metadata": {},
   "outputs": [],
   "source": [
    "files = glob.glob('./data/sf/*.txt')"
   ]
  },
  {
   "cell_type": "code",
   "execution_count": 161,
   "metadata": {},
   "outputs": [],
   "source": [
    "sample_file = files[0]"
   ]
  },
  {
   "cell_type": "code",
   "execution_count": 162,
   "metadata": {},
   "outputs": [],
   "source": [
    "data = pd.read_csv(sample_file, sep=\" \", header=None)\n",
    "data.columns = [\"lat\", \"long\", \"occupied\", \"unixtime\"]"
   ]
  },
  {
   "cell_type": "code",
   "execution_count": 163,
   "metadata": {},
   "outputs": [
    {
     "data": {
      "text/html": [
       "<div>\n",
       "<style scoped>\n",
       "    .dataframe tbody tr th:only-of-type {\n",
       "        vertical-align: middle;\n",
       "    }\n",
       "\n",
       "    .dataframe tbody tr th {\n",
       "        vertical-align: top;\n",
       "    }\n",
       "\n",
       "    .dataframe thead th {\n",
       "        text-align: right;\n",
       "    }\n",
       "</style>\n",
       "<table border=\"1\" class=\"dataframe\">\n",
       "  <thead>\n",
       "    <tr style=\"text-align: right;\">\n",
       "      <th></th>\n",
       "      <th>lat</th>\n",
       "      <th>long</th>\n",
       "      <th>occupied</th>\n",
       "      <th>unixtime</th>\n",
       "    </tr>\n",
       "  </thead>\n",
       "  <tbody>\n",
       "    <tr>\n",
       "      <th>0</th>\n",
       "      <td>37.61549</td>\n",
       "      <td>-122.38821</td>\n",
       "      <td>0</td>\n",
       "      <td>1213037028</td>\n",
       "    </tr>\n",
       "    <tr>\n",
       "      <th>1</th>\n",
       "      <td>37.61562</td>\n",
       "      <td>-122.38849</td>\n",
       "      <td>0</td>\n",
       "      <td>1213036968</td>\n",
       "    </tr>\n",
       "    <tr>\n",
       "      <th>2</th>\n",
       "      <td>37.61518</td>\n",
       "      <td>-122.39029</td>\n",
       "      <td>0</td>\n",
       "      <td>1213036903</td>\n",
       "    </tr>\n",
       "    <tr>\n",
       "      <th>3</th>\n",
       "      <td>37.61393</td>\n",
       "      <td>-122.39508</td>\n",
       "      <td>0</td>\n",
       "      <td>1213036843</td>\n",
       "    </tr>\n",
       "    <tr>\n",
       "      <th>4</th>\n",
       "      <td>37.60493</td>\n",
       "      <td>-122.38362</td>\n",
       "      <td>0</td>\n",
       "      <td>1213036783</td>\n",
       "    </tr>\n",
       "  </tbody>\n",
       "</table>\n",
       "</div>"
      ],
      "text/plain": [
       "        lat       long  occupied    unixtime\n",
       "0  37.61549 -122.38821         0  1213037028\n",
       "1  37.61562 -122.38849         0  1213036968\n",
       "2  37.61518 -122.39029         0  1213036903\n",
       "3  37.61393 -122.39508         0  1213036843\n",
       "4  37.60493 -122.38362         0  1213036783"
      ]
     },
     "execution_count": 163,
     "metadata": {},
     "output_type": "execute_result"
    }
   ],
   "source": [
    "data.head()"
   ]
  },
  {
   "cell_type": "code",
   "execution_count": 164,
   "metadata": {},
   "outputs": [
    {
     "data": {
      "text/plain": [
       "'new_adkavy'"
      ]
     },
     "execution_count": 164,
     "metadata": {},
     "output_type": "execute_result"
    }
   ],
   "source": [
    "file_name = os.path.basename(sample_file).split('.')[0]\n",
    "file_name"
   ]
  },
  {
   "cell_type": "code",
   "execution_count": 165,
   "metadata": {},
   "outputs": [],
   "source": [
    "data['cab_name'] = pd.Series(file_name, index=data.index)"
   ]
  },
  {
   "cell_type": "code",
   "execution_count": 166,
   "metadata": {},
   "outputs": [
    {
     "data": {
      "text/html": [
       "<div>\n",
       "<style scoped>\n",
       "    .dataframe tbody tr th:only-of-type {\n",
       "        vertical-align: middle;\n",
       "    }\n",
       "\n",
       "    .dataframe tbody tr th {\n",
       "        vertical-align: top;\n",
       "    }\n",
       "\n",
       "    .dataframe thead th {\n",
       "        text-align: right;\n",
       "    }\n",
       "</style>\n",
       "<table border=\"1\" class=\"dataframe\">\n",
       "  <thead>\n",
       "    <tr style=\"text-align: right;\">\n",
       "      <th></th>\n",
       "      <th>lat</th>\n",
       "      <th>long</th>\n",
       "      <th>occupied</th>\n",
       "      <th>unixtime</th>\n",
       "      <th>cab_name</th>\n",
       "    </tr>\n",
       "  </thead>\n",
       "  <tbody>\n",
       "    <tr>\n",
       "      <th>0</th>\n",
       "      <td>37.61549</td>\n",
       "      <td>-122.38821</td>\n",
       "      <td>0</td>\n",
       "      <td>1213037028</td>\n",
       "      <td>new_adkavy</td>\n",
       "    </tr>\n",
       "    <tr>\n",
       "      <th>1</th>\n",
       "      <td>37.61562</td>\n",
       "      <td>-122.38849</td>\n",
       "      <td>0</td>\n",
       "      <td>1213036968</td>\n",
       "      <td>new_adkavy</td>\n",
       "    </tr>\n",
       "    <tr>\n",
       "      <th>2</th>\n",
       "      <td>37.61518</td>\n",
       "      <td>-122.39029</td>\n",
       "      <td>0</td>\n",
       "      <td>1213036903</td>\n",
       "      <td>new_adkavy</td>\n",
       "    </tr>\n",
       "    <tr>\n",
       "      <th>3</th>\n",
       "      <td>37.61393</td>\n",
       "      <td>-122.39508</td>\n",
       "      <td>0</td>\n",
       "      <td>1213036843</td>\n",
       "      <td>new_adkavy</td>\n",
       "    </tr>\n",
       "    <tr>\n",
       "      <th>4</th>\n",
       "      <td>37.60493</td>\n",
       "      <td>-122.38362</td>\n",
       "      <td>0</td>\n",
       "      <td>1213036783</td>\n",
       "      <td>new_adkavy</td>\n",
       "    </tr>\n",
       "  </tbody>\n",
       "</table>\n",
       "</div>"
      ],
      "text/plain": [
       "        lat       long  occupied    unixtime    cab_name\n",
       "0  37.61549 -122.38821         0  1213037028  new_adkavy\n",
       "1  37.61562 -122.38849         0  1213036968  new_adkavy\n",
       "2  37.61518 -122.39029         0  1213036903  new_adkavy\n",
       "3  37.61393 -122.39508         0  1213036843  new_adkavy\n",
       "4  37.60493 -122.38362         0  1213036783  new_adkavy"
      ]
     },
     "execution_count": 166,
     "metadata": {},
     "output_type": "execute_result"
    }
   ],
   "source": [
    "data.head()"
   ]
  },
  {
   "cell_type": "code",
   "execution_count": 167,
   "metadata": {},
   "outputs": [],
   "source": [
    "data_sort = data.sort_values(by=['cab_name', 'unixtime'])"
   ]
  },
  {
   "cell_type": "code",
   "execution_count": 168,
   "metadata": {},
   "outputs": [],
   "source": [
    "data_sort['dt_ts'] = data_sort.apply(\n",
    "lambda row: datetime.utcfromtimestamp(int(row['unixtime'])).strftime('%Y-%m-%d %H:%M:%S'),\n",
    "    axis = 1\n",
    ")\n",
    "# data_sort = data_sort.drop(['unixtime'], axis=1)"
   ]
  },
  {
   "cell_type": "code",
   "execution_count": 169,
   "metadata": {},
   "outputs": [
    {
     "data": {
      "text/html": [
       "<div>\n",
       "<style scoped>\n",
       "    .dataframe tbody tr th:only-of-type {\n",
       "        vertical-align: middle;\n",
       "    }\n",
       "\n",
       "    .dataframe tbody tr th {\n",
       "        vertical-align: top;\n",
       "    }\n",
       "\n",
       "    .dataframe thead th {\n",
       "        text-align: right;\n",
       "    }\n",
       "</style>\n",
       "<table border=\"1\" class=\"dataframe\">\n",
       "  <thead>\n",
       "    <tr style=\"text-align: right;\">\n",
       "      <th></th>\n",
       "      <th>lat</th>\n",
       "      <th>long</th>\n",
       "      <th>occupied</th>\n",
       "      <th>unixtime</th>\n",
       "      <th>cab_name</th>\n",
       "      <th>dt_ts</th>\n",
       "    </tr>\n",
       "  </thead>\n",
       "  <tbody>\n",
       "    <tr>\n",
       "      <th>0</th>\n",
       "      <td>37.79826</td>\n",
       "      <td>-122.26613</td>\n",
       "      <td>0</td>\n",
       "      <td>1211034337</td>\n",
       "      <td>new_adkavy</td>\n",
       "      <td>2008-05-17 14:25:37</td>\n",
       "    </tr>\n",
       "    <tr>\n",
       "      <th>1</th>\n",
       "      <td>37.79596</td>\n",
       "      <td>-122.26824</td>\n",
       "      <td>0</td>\n",
       "      <td>1211034398</td>\n",
       "      <td>new_adkavy</td>\n",
       "      <td>2008-05-17 14:26:38</td>\n",
       "    </tr>\n",
       "    <tr>\n",
       "      <th>2</th>\n",
       "      <td>37.80031</td>\n",
       "      <td>-122.27920</td>\n",
       "      <td>0</td>\n",
       "      <td>1211034467</td>\n",
       "      <td>new_adkavy</td>\n",
       "      <td>2008-05-17 14:27:47</td>\n",
       "    </tr>\n",
       "    <tr>\n",
       "      <th>3</th>\n",
       "      <td>37.80219</td>\n",
       "      <td>-122.29588</td>\n",
       "      <td>0</td>\n",
       "      <td>1211034515</td>\n",
       "      <td>new_adkavy</td>\n",
       "      <td>2008-05-17 14:28:35</td>\n",
       "    </tr>\n",
       "    <tr>\n",
       "      <th>4</th>\n",
       "      <td>37.81305</td>\n",
       "      <td>-122.30235</td>\n",
       "      <td>0</td>\n",
       "      <td>1211034575</td>\n",
       "      <td>new_adkavy</td>\n",
       "      <td>2008-05-17 14:29:35</td>\n",
       "    </tr>\n",
       "    <tr>\n",
       "      <th>5</th>\n",
       "      <td>37.82369</td>\n",
       "      <td>-122.30235</td>\n",
       "      <td>0</td>\n",
       "      <td>1211034637</td>\n",
       "      <td>new_adkavy</td>\n",
       "      <td>2008-05-17 14:30:37</td>\n",
       "    </tr>\n",
       "    <tr>\n",
       "      <th>6</th>\n",
       "      <td>37.82520</td>\n",
       "      <td>-122.31218</td>\n",
       "      <td>0</td>\n",
       "      <td>1211034697</td>\n",
       "      <td>new_adkavy</td>\n",
       "      <td>2008-05-17 14:31:37</td>\n",
       "    </tr>\n",
       "    <tr>\n",
       "      <th>7</th>\n",
       "      <td>37.82521</td>\n",
       "      <td>-122.31258</td>\n",
       "      <td>0</td>\n",
       "      <td>1211034757</td>\n",
       "      <td>new_adkavy</td>\n",
       "      <td>2008-05-17 14:32:37</td>\n",
       "    </tr>\n",
       "    <tr>\n",
       "      <th>8</th>\n",
       "      <td>37.82520</td>\n",
       "      <td>-122.31322</td>\n",
       "      <td>0</td>\n",
       "      <td>1211034817</td>\n",
       "      <td>new_adkavy</td>\n",
       "      <td>2008-05-17 14:33:37</td>\n",
       "    </tr>\n",
       "    <tr>\n",
       "      <th>9</th>\n",
       "      <td>37.82517</td>\n",
       "      <td>-122.31362</td>\n",
       "      <td>0</td>\n",
       "      <td>1211034843</td>\n",
       "      <td>new_adkavy</td>\n",
       "      <td>2008-05-17 14:34:03</td>\n",
       "    </tr>\n",
       "  </tbody>\n",
       "</table>\n",
       "</div>"
      ],
      "text/plain": [
       "        lat       long  occupied    unixtime    cab_name                dt_ts\n",
       "0  37.79826 -122.26613         0  1211034337  new_adkavy  2008-05-17 14:25:37\n",
       "1  37.79596 -122.26824         0  1211034398  new_adkavy  2008-05-17 14:26:38\n",
       "2  37.80031 -122.27920         0  1211034467  new_adkavy  2008-05-17 14:27:47\n",
       "3  37.80219 -122.29588         0  1211034515  new_adkavy  2008-05-17 14:28:35\n",
       "4  37.81305 -122.30235         0  1211034575  new_adkavy  2008-05-17 14:29:35\n",
       "5  37.82369 -122.30235         0  1211034637  new_adkavy  2008-05-17 14:30:37\n",
       "6  37.82520 -122.31218         0  1211034697  new_adkavy  2008-05-17 14:31:37\n",
       "7  37.82521 -122.31258         0  1211034757  new_adkavy  2008-05-17 14:32:37\n",
       "8  37.82520 -122.31322         0  1211034817  new_adkavy  2008-05-17 14:33:37\n",
       "9  37.82517 -122.31362         0  1211034843  new_adkavy  2008-05-17 14:34:03"
      ]
     },
     "execution_count": 169,
     "metadata": {},
     "output_type": "execute_result"
    }
   ],
   "source": [
    "data_sort = data_sort.reset_index(drop=True)\n",
    "data_sort.head(10)"
   ]
  },
  {
   "cell_type": "code",
   "execution_count": 170,
   "metadata": {},
   "outputs": [],
   "source": [
    "# # data_sort\n",
    "# for i in range(1, len(data_sort)):\n",
    "#     data_sort.loc[i, 'gap'] = data_sort.loc[i, 'unixtime'] - data_sort.loc[i-1, 'unixtime']\n",
    "    "
   ]
  },
  {
   "cell_type": "markdown",
   "metadata": {},
   "source": [
    "### Indicator of PickUp and DropOff location"
   ]
  },
  {
   "cell_type": "code",
   "execution_count": 171,
   "metadata": {},
   "outputs": [],
   "source": [
    "for i in range(1, len(data_sort)):\n",
    "    data_sort.loc[i, 'diff_occupied'] = data_sort.loc[i, 'occupied'] - data_sort.loc[i-1, 'occupied']"
   ]
  },
  {
   "cell_type": "code",
   "execution_count": 172,
   "metadata": {},
   "outputs": [],
   "source": [
    "data_sort['is_pickup'] = np.where(data_sort['diff_occupied']==1, True, False)"
   ]
  },
  {
   "cell_type": "code",
   "execution_count": 173,
   "metadata": {},
   "outputs": [],
   "source": [
    "data_sort['is_dropoff'] = np.where(data_sort['diff_occupied']==-1, True, False)"
   ]
  },
  {
   "cell_type": "code",
   "execution_count": 176,
   "metadata": {
    "scrolled": true
   },
   "outputs": [
    {
     "data": {
      "text/html": [
       "<div>\n",
       "<style scoped>\n",
       "    .dataframe tbody tr th:only-of-type {\n",
       "        vertical-align: middle;\n",
       "    }\n",
       "\n",
       "    .dataframe tbody tr th {\n",
       "        vertical-align: top;\n",
       "    }\n",
       "\n",
       "    .dataframe thead th {\n",
       "        text-align: right;\n",
       "    }\n",
       "</style>\n",
       "<table border=\"1\" class=\"dataframe\">\n",
       "  <thead>\n",
       "    <tr style=\"text-align: right;\">\n",
       "      <th></th>\n",
       "      <th>lat</th>\n",
       "      <th>long</th>\n",
       "      <th>occupied</th>\n",
       "      <th>unixtime</th>\n",
       "      <th>cab_name</th>\n",
       "      <th>dt_ts</th>\n",
       "      <th>diff_occupied</th>\n",
       "      <th>is_pickup</th>\n",
       "      <th>is_dropoff</th>\n",
       "    </tr>\n",
       "  </thead>\n",
       "  <tbody>\n",
       "    <tr>\n",
       "      <th>19537</th>\n",
       "      <td>37.60493</td>\n",
       "      <td>-122.38362</td>\n",
       "      <td>0</td>\n",
       "      <td>1213036783</td>\n",
       "      <td>new_adkavy</td>\n",
       "      <td>2008-06-09 18:39:43</td>\n",
       "      <td>0.0</td>\n",
       "      <td>False</td>\n",
       "      <td>False</td>\n",
       "    </tr>\n",
       "    <tr>\n",
       "      <th>19538</th>\n",
       "      <td>37.61393</td>\n",
       "      <td>-122.39508</td>\n",
       "      <td>0</td>\n",
       "      <td>1213036843</td>\n",
       "      <td>new_adkavy</td>\n",
       "      <td>2008-06-09 18:40:43</td>\n",
       "      <td>0.0</td>\n",
       "      <td>False</td>\n",
       "      <td>False</td>\n",
       "    </tr>\n",
       "    <tr>\n",
       "      <th>19539</th>\n",
       "      <td>37.61518</td>\n",
       "      <td>-122.39029</td>\n",
       "      <td>0</td>\n",
       "      <td>1213036903</td>\n",
       "      <td>new_adkavy</td>\n",
       "      <td>2008-06-09 18:41:43</td>\n",
       "      <td>0.0</td>\n",
       "      <td>False</td>\n",
       "      <td>False</td>\n",
       "    </tr>\n",
       "    <tr>\n",
       "      <th>19540</th>\n",
       "      <td>37.61562</td>\n",
       "      <td>-122.38849</td>\n",
       "      <td>0</td>\n",
       "      <td>1213036968</td>\n",
       "      <td>new_adkavy</td>\n",
       "      <td>2008-06-09 18:42:48</td>\n",
       "      <td>0.0</td>\n",
       "      <td>False</td>\n",
       "      <td>False</td>\n",
       "    </tr>\n",
       "    <tr>\n",
       "      <th>19541</th>\n",
       "      <td>37.61549</td>\n",
       "      <td>-122.38821</td>\n",
       "      <td>0</td>\n",
       "      <td>1213037028</td>\n",
       "      <td>new_adkavy</td>\n",
       "      <td>2008-06-09 18:43:48</td>\n",
       "      <td>0.0</td>\n",
       "      <td>False</td>\n",
       "      <td>False</td>\n",
       "    </tr>\n",
       "  </tbody>\n",
       "</table>\n",
       "</div>"
      ],
      "text/plain": [
       "            lat       long  occupied    unixtime    cab_name  \\\n",
       "19537  37.60493 -122.38362         0  1213036783  new_adkavy   \n",
       "19538  37.61393 -122.39508         0  1213036843  new_adkavy   \n",
       "19539  37.61518 -122.39029         0  1213036903  new_adkavy   \n",
       "19540  37.61562 -122.38849         0  1213036968  new_adkavy   \n",
       "19541  37.61549 -122.38821         0  1213037028  new_adkavy   \n",
       "\n",
       "                     dt_ts  diff_occupied  is_pickup  is_dropoff  \n",
       "19537  2008-06-09 18:39:43            0.0      False       False  \n",
       "19538  2008-06-09 18:40:43            0.0      False       False  \n",
       "19539  2008-06-09 18:41:43            0.0      False       False  \n",
       "19540  2008-06-09 18:42:48            0.0      False       False  \n",
       "19541  2008-06-09 18:43:48            0.0      False       False  "
      ]
     },
     "execution_count": 176,
     "metadata": {},
     "output_type": "execute_result"
    }
   ],
   "source": [
    "data_sort.tail(5)"
   ]
  },
  {
   "cell_type": "code",
   "execution_count": 177,
   "metadata": {},
   "outputs": [],
   "source": [
    "data_sliced = data_sort[(data_sort['is_pickup']) | (data_sort['is_dropoff'])]"
   ]
  },
  {
   "cell_type": "code",
   "execution_count": 178,
   "metadata": {},
   "outputs": [
    {
     "data": {
      "text/plain": [
       "(1274, 8)"
      ]
     },
     "execution_count": 178,
     "metadata": {},
     "output_type": "execute_result"
    }
   ],
   "source": [
    "data_sliced = data_sliced.reset_index(drop=True)\n",
    "data_sliced = data_sliced.drop(['diff_occupied'], axis=1)\n",
    "data_sliced.shape"
   ]
  },
  {
   "cell_type": "code",
   "execution_count": 179,
   "metadata": {},
   "outputs": [
    {
     "data": {
      "text/html": [
       "<div>\n",
       "<style scoped>\n",
       "    .dataframe tbody tr th:only-of-type {\n",
       "        vertical-align: middle;\n",
       "    }\n",
       "\n",
       "    .dataframe tbody tr th {\n",
       "        vertical-align: top;\n",
       "    }\n",
       "\n",
       "    .dataframe thead th {\n",
       "        text-align: right;\n",
       "    }\n",
       "</style>\n",
       "<table border=\"1\" class=\"dataframe\">\n",
       "  <thead>\n",
       "    <tr style=\"text-align: right;\">\n",
       "      <th></th>\n",
       "      <th>lat</th>\n",
       "      <th>long</th>\n",
       "      <th>occupied</th>\n",
       "      <th>unixtime</th>\n",
       "      <th>cab_name</th>\n",
       "      <th>dt_ts</th>\n",
       "      <th>is_pickup</th>\n",
       "      <th>is_dropoff</th>\n",
       "    </tr>\n",
       "  </thead>\n",
       "  <tbody>\n",
       "    <tr>\n",
       "      <th>0</th>\n",
       "      <td>37.78726</td>\n",
       "      <td>-122.41110</td>\n",
       "      <td>1</td>\n",
       "      <td>1211039593</td>\n",
       "      <td>new_adkavy</td>\n",
       "      <td>2008-05-17 15:53:13</td>\n",
       "      <td>True</td>\n",
       "      <td>False</td>\n",
       "    </tr>\n",
       "    <tr>\n",
       "      <th>1</th>\n",
       "      <td>37.61467</td>\n",
       "      <td>-122.38975</td>\n",
       "      <td>0</td>\n",
       "      <td>1211040739</td>\n",
       "      <td>new_adkavy</td>\n",
       "      <td>2008-05-17 16:12:19</td>\n",
       "      <td>False</td>\n",
       "      <td>True</td>\n",
       "    </tr>\n",
       "    <tr>\n",
       "      <th>2</th>\n",
       "      <td>37.61464</td>\n",
       "      <td>-122.39350</td>\n",
       "      <td>1</td>\n",
       "      <td>1211046267</td>\n",
       "      <td>new_adkavy</td>\n",
       "      <td>2008-05-17 17:44:27</td>\n",
       "      <td>True</td>\n",
       "      <td>False</td>\n",
       "    </tr>\n",
       "    <tr>\n",
       "      <th>3</th>\n",
       "      <td>37.78583</td>\n",
       "      <td>-122.42816</td>\n",
       "      <td>0</td>\n",
       "      <td>1211047542</td>\n",
       "      <td>new_adkavy</td>\n",
       "      <td>2008-05-17 18:05:42</td>\n",
       "      <td>False</td>\n",
       "      <td>True</td>\n",
       "    </tr>\n",
       "    <tr>\n",
       "      <th>4</th>\n",
       "      <td>37.78648</td>\n",
       "      <td>-122.43799</td>\n",
       "      <td>1</td>\n",
       "      <td>1211048016</td>\n",
       "      <td>new_adkavy</td>\n",
       "      <td>2008-05-17 18:13:36</td>\n",
       "      <td>True</td>\n",
       "      <td>False</td>\n",
       "    </tr>\n",
       "  </tbody>\n",
       "</table>\n",
       "</div>"
      ],
      "text/plain": [
       "        lat       long  occupied    unixtime    cab_name                dt_ts  \\\n",
       "0  37.78726 -122.41110         1  1211039593  new_adkavy  2008-05-17 15:53:13   \n",
       "1  37.61467 -122.38975         0  1211040739  new_adkavy  2008-05-17 16:12:19   \n",
       "2  37.61464 -122.39350         1  1211046267  new_adkavy  2008-05-17 17:44:27   \n",
       "3  37.78583 -122.42816         0  1211047542  new_adkavy  2008-05-17 18:05:42   \n",
       "4  37.78648 -122.43799         1  1211048016  new_adkavy  2008-05-17 18:13:36   \n",
       "\n",
       "   is_pickup  is_dropoff  \n",
       "0       True       False  \n",
       "1      False        True  \n",
       "2       True       False  \n",
       "3      False        True  \n",
       "4       True       False  "
      ]
     },
     "execution_count": 179,
     "metadata": {},
     "output_type": "execute_result"
    }
   ],
   "source": [
    "data_sliced.head(5)"
   ]
  },
  {
   "cell_type": "markdown",
   "metadata": {},
   "source": [
    "### map cell id"
   ]
  },
  {
   "cell_type": "code",
   "execution_count": 180,
   "metadata": {},
   "outputs": [],
   "source": [
    "from s2sphere import CellId, LatLng\n",
    "cell_level = 13\n",
    "data_sliced['cell_id'] = data_sliced.apply(\n",
    "    lambda row: CellId.from_lat_lng(LatLng.from_degrees(float(row['lat']), float(row['long'])))\\\n",
    "    .parent(cell_level).to_token(),\n",
    "    axis=1\n",
    "    # lambda row: row['long']\n",
    ")"
   ]
  },
  {
   "cell_type": "code",
   "execution_count": 182,
   "metadata": {},
   "outputs": [
    {
     "data": {
      "text/html": [
       "<div>\n",
       "<style scoped>\n",
       "    .dataframe tbody tr th:only-of-type {\n",
       "        vertical-align: middle;\n",
       "    }\n",
       "\n",
       "    .dataframe tbody tr th {\n",
       "        vertical-align: top;\n",
       "    }\n",
       "\n",
       "    .dataframe thead th {\n",
       "        text-align: right;\n",
       "    }\n",
       "</style>\n",
       "<table border=\"1\" class=\"dataframe\">\n",
       "  <thead>\n",
       "    <tr style=\"text-align: right;\">\n",
       "      <th></th>\n",
       "      <th>lat</th>\n",
       "      <th>long</th>\n",
       "      <th>unixtime</th>\n",
       "      <th>cab_name</th>\n",
       "      <th>dt_ts</th>\n",
       "      <th>is_pickup</th>\n",
       "      <th>is_dropoff</th>\n",
       "      <th>cell_id</th>\n",
       "    </tr>\n",
       "  </thead>\n",
       "  <tbody>\n",
       "    <tr>\n",
       "      <th>0</th>\n",
       "      <td>37.78726</td>\n",
       "      <td>-122.41110</td>\n",
       "      <td>1211039593</td>\n",
       "      <td>new_adkavy</td>\n",
       "      <td>2008-05-17 15:53:13</td>\n",
       "      <td>True</td>\n",
       "      <td>False</td>\n",
       "      <td>8085808c</td>\n",
       "    </tr>\n",
       "    <tr>\n",
       "      <th>1</th>\n",
       "      <td>37.61467</td>\n",
       "      <td>-122.38975</td>\n",
       "      <td>1211040739</td>\n",
       "      <td>new_adkavy</td>\n",
       "      <td>2008-05-17 16:12:19</td>\n",
       "      <td>False</td>\n",
       "      <td>True</td>\n",
       "      <td>808f7794</td>\n",
       "    </tr>\n",
       "    <tr>\n",
       "      <th>2</th>\n",
       "      <td>37.61464</td>\n",
       "      <td>-122.39350</td>\n",
       "      <td>1211046267</td>\n",
       "      <td>new_adkavy</td>\n",
       "      <td>2008-05-17 17:44:27</td>\n",
       "      <td>True</td>\n",
       "      <td>False</td>\n",
       "      <td>808f779c</td>\n",
       "    </tr>\n",
       "    <tr>\n",
       "      <th>3</th>\n",
       "      <td>37.78583</td>\n",
       "      <td>-122.42816</td>\n",
       "      <td>1211047542</td>\n",
       "      <td>new_adkavy</td>\n",
       "      <td>2008-05-17 18:05:42</td>\n",
       "      <td>False</td>\n",
       "      <td>True</td>\n",
       "      <td>808580bc</td>\n",
       "    </tr>\n",
       "  </tbody>\n",
       "</table>\n",
       "</div>"
      ],
      "text/plain": [
       "        lat       long    unixtime    cab_name                dt_ts  \\\n",
       "0  37.78726 -122.41110  1211039593  new_adkavy  2008-05-17 15:53:13   \n",
       "1  37.61467 -122.38975  1211040739  new_adkavy  2008-05-17 16:12:19   \n",
       "2  37.61464 -122.39350  1211046267  new_adkavy  2008-05-17 17:44:27   \n",
       "3  37.78583 -122.42816  1211047542  new_adkavy  2008-05-17 18:05:42   \n",
       "\n",
       "   is_pickup  is_dropoff   cell_id  \n",
       "0       True       False  8085808c  \n",
       "1      False        True  808f7794  \n",
       "2       True       False  808f779c  \n",
       "3      False        True  808580bc  "
      ]
     },
     "execution_count": 182,
     "metadata": {},
     "output_type": "execute_result"
    }
   ],
   "source": [
    "data_sliced = data_sliced.drop(['occupied'], axis=1)\n",
    "data_sliced.head(4)"
   ]
  },
  {
   "cell_type": "code",
   "execution_count": null,
   "metadata": {},
   "outputs": [],
   "source": []
  }
 ],
 "metadata": {
  "kernelspec": {
   "display_name": "Python 3",
   "language": "python",
   "name": "python3"
  },
  "language_info": {
   "codemirror_mode": {
    "name": "ipython",
    "version": 3
   },
   "file_extension": ".py",
   "mimetype": "text/x-python",
   "name": "python",
   "nbconvert_exporter": "python",
   "pygments_lexer": "ipython3",
   "version": "3.6.6"
  }
 },
 "nbformat": 4,
 "nbformat_minor": 2
}
