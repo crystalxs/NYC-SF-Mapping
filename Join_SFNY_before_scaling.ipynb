{
 "cells": [
  {
   "cell_type": "markdown",
   "metadata": {},
   "source": [
    "## Import data and preprocess"
   ]
  },
  {
   "cell_type": "code",
   "execution_count": 1,
   "metadata": {
    "ExecuteTime": {
     "end_time": "2019-01-29T06:55:27.551413Z",
     "start_time": "2019-01-29T06:55:27.547948Z"
    }
   },
   "outputs": [],
   "source": [
    "# !pip install s2sphere\n",
    "# !pip install mapsplotlib"
   ]
  },
  {
   "cell_type": "code",
   "execution_count": 2,
   "metadata": {
    "ExecuteTime": {
     "end_time": "2019-01-29T18:46:28.706254Z",
     "start_time": "2019-01-29T18:46:28.193831Z"
    }
   },
   "outputs": [],
   "source": [
    "from pyspark import SparkContext, SparkConf\n",
    "from pyspark.sql import SparkSession\n",
    "from pyspark.sql import Row\n",
    "from pyspark.sql.types import *\n",
    "from pyspark.sql.functions import *\n",
    "from pyspark.sql import SQLContext\n",
    "from pyspark.ml.feature import VectorAssembler\n",
    "import s2sphere"
   ]
  },
  {
   "cell_type": "code",
   "execution_count": 3,
   "metadata": {
    "ExecuteTime": {
     "end_time": "2019-01-29T18:46:32.517466Z",
     "start_time": "2019-01-29T18:46:28.908266Z"
    }
   },
   "outputs": [],
   "source": [
    "conf = SparkConf().setAppName(\"msds697_project\")\n",
    "sc = SparkContext(conf=conf)\n",
    "sc.setLogLevel(\"OFF\")"
   ]
  },
  {
   "cell_type": "code",
   "execution_count": 4,
   "metadata": {
    "ExecuteTime": {
     "end_time": "2019-01-29T18:47:04.116570Z",
     "start_time": "2019-01-29T18:47:04.041044Z"
    }
   },
   "outputs": [],
   "source": [
    "ss = SparkSession.builder.getOrCreate()"
   ]
  },
  {
   "cell_type": "code",
   "execution_count": 5,
   "metadata": {
    "ExecuteTime": {
     "end_time": "2019-01-29T18:39:38.054768Z",
     "start_time": "2019-01-29T18:39:38.028342Z"
    }
   },
   "outputs": [],
   "source": [
    "# schema = StructType([StructField(\"End_Lat\",DoubleType(),True),\n",
    "#  StructField(\"End_Lon\",DoubleType(),True),\n",
    "#  StructField(\"Fare_Amt\",DoubleType(),True),\n",
    "#  StructField(\"Passenger_Count\",IntegerType(),True),\n",
    "#  StructField(\"Payment_Type\",StringType(),True),\n",
    "#  StructField(\"Rate_Code\",StringType(),True),\n",
    "#  StructField(\"Start_Lat\",DoubleType(),True),\n",
    "#  StructField(\"Start_Lon\",DoubleType(),True),\n",
    "#  StructField(\"Tip_Amt\",DoubleType(),True),\n",
    "#  StructField(\"Tolls_Amt\",DoubleType(),True),\n",
    "#  StructField(\"Total_Amt\",DoubleType(),True),\n",
    "#  StructField(\"Trip_Distance\",DoubleType(),True),\n",
    "#  StructField(\"Trip_Dropoff_DateTime\",StringType(),True),\n",
    "#  StructField(\"Trip_Pickup_DateTime\",StringType(),True),\n",
    "#  StructField(\"_id\",StringType(),True),\n",
    "#  StructField(\"mta_tax\",StringType(),True),\n",
    "#  StructField(\"store_and_forward\",StringType(),True),\n",
    "#  StructField(\"surcharge\",DoubleType(),True),\n",
    "#  StructField(\"vendor_name\",StringType(),True)])"
   ]
  },
  {
   "cell_type": "code",
   "execution_count": 5,
   "metadata": {
    "ExecuteTime": {
     "end_time": "2019-01-29T18:47:30.117606Z",
     "start_time": "2019-01-29T18:47:30.112953Z"
    }
   },
   "outputs": [],
   "source": [
    "def toFloatSafe(v):\n",
    "    try:\n",
    "        return float(v)\n",
    "    except ValueError:\n",
    "        return v"
   ]
  },
  {
   "cell_type": "code",
   "execution_count": 6,
   "metadata": {
    "ExecuteTime": {
     "end_time": "2019-01-29T18:48:27.246897Z",
     "start_time": "2019-01-29T18:48:27.238235Z"
    }
   },
   "outputs": [],
   "source": [
    "def lowercase_cols(df):\n",
    "    for col in df.columns:\n",
    "        new_col = col.lower()\n",
    "        if new_col != col:\n",
    "            df = df.withColumnRenamed(col, new_col)\n",
    "    return df\n",
    "\n",
    "def toDatetime(df, col_name):\n",
    "    df = df.withColumn(col_name + \"_2\", to_timestamp(df[col_name], 'yyyy-MM-dd HH:mm:ss'))\n",
    "    df = df.drop(col_name).withColumnRenamed(col_name + \"_2\", col_name)\n",
    "    return df\n"
   ]
  },
  {
   "cell_type": "code",
   "execution_count": 7,
   "metadata": {
    "ExecuteTime": {
     "end_time": "2019-01-29T18:47:34.008443Z",
     "start_time": "2019-01-29T18:47:31.106835Z"
    }
   },
   "outputs": [],
   "source": [
    "nyc_header = \"vendor_name,Trip_Pickup_DateTime,Trip_Dropoff_DateTime,Passenger_Count,Trip_Distance,Start_Lon,Start_Lat,Rate_Code,store_and_forward,End_Lon,End_Lat,Payment_Type,Fare_Amt,surcharge,mta_tax,Tip_Amt,Tolls_Amt,Total_Amt\".split(\",\")\n",
    "\n",
    "nyc_df = sc.textFile('../data/ny/yellow_tripdata_2009-05.csv')\\\n",
    "            .map(lambda x:  x.split(\",\"))\\\n",
    "            .filter(lambda x: (len(x) == len(nyc_header)) & (x != nyc_header))\\\n",
    "            .map(lambda x: [toFloatSafe(v) for v in x])\\\n",
    "            .toDF([x.lower() for x in nyc_header])\n",
    "\n",
    "keep_cols = ['trip_pickup_datetime',\n",
    " 'trip_dropoff_datetime',\n",
    " 'trip_distance',\n",
    " 'start_lon',\n",
    " 'start_lat',\n",
    " 'end_lon',\n",
    " 'end_lat']\n",
    "\n",
    "nyc_df = nyc_df.select(keep_cols)\n",
    "nyc_df = lowercase_cols(nyc_df)"
   ]
  },
  {
   "cell_type": "code",
   "execution_count": 8,
   "metadata": {
    "ExecuteTime": {
     "end_time": "2019-01-29T18:47:40.397589Z",
     "start_time": "2019-01-29T18:47:40.385389Z"
    }
   },
   "outputs": [
    {
     "name": "stdout",
     "output_type": "stream",
     "text": [
      "root\n",
      " |-- trip_pickup_datetime: string (nullable = true)\n",
      " |-- trip_dropoff_datetime: string (nullable = true)\n",
      " |-- trip_distance: double (nullable = true)\n",
      " |-- start_lon: double (nullable = true)\n",
      " |-- start_lat: double (nullable = true)\n",
      " |-- end_lon: double (nullable = true)\n",
      " |-- end_lat: double (nullable = true)\n",
      "\n"
     ]
    }
   ],
   "source": [
    "nyc_df.printSchema()"
   ]
  },
  {
   "cell_type": "code",
   "execution_count": 9,
   "metadata": {
    "ExecuteTime": {
     "end_time": "2019-01-29T18:49:08.096691Z",
     "start_time": "2019-01-29T18:48:48.994743Z"
    }
   },
   "outputs": [
    {
     "name": "stdout",
     "output_type": "stream",
     "text": [
      "+--------------------+---------------------+-------------+----------+---------+----------+---------+\n",
      "|trip_pickup_datetime|trip_dropoff_datetime|trip_distance| start_lon|start_lat|   end_lon|  end_lat|\n",
      "+--------------------+---------------------+-------------+----------+---------+----------+---------+\n",
      "| 2009-05-27 07:41:05|  2009-05-27 07:42:28|          0.3|-73.974105|40.742892|-73.973769|40.746405|\n",
      "| 2009-05-27 07:51:06|  2009-05-27 07:58:43|          1.9|-74.008148|40.738854|-74.015638|40.714536|\n",
      "| 2009-05-15 15:22:02|  2009-05-15 15:30:15|          1.4|-73.973343|40.764047|-73.952663|40.769895|\n",
      "| 2009-05-26 22:06:37|  2009-05-26 22:15:33|          2.2|-74.005256| 40.71973|-74.005523|40.745585|\n",
      "| 2009-05-27 12:51:39|  2009-05-27 13:00:46|          0.9|-73.997714|40.741363|-73.994257| 40.75105|\n",
      "+--------------------+---------------------+-------------+----------+---------+----------+---------+\n",
      "only showing top 5 rows\n",
      "\n"
     ]
    }
   ],
   "source": [
    "nyc_df.show(5)"
   ]
  },
  {
   "cell_type": "markdown",
   "metadata": {},
   "source": [
    "### Import SF DATA"
   ]
  },
  {
   "cell_type": "code",
   "execution_count": 10,
   "metadata": {},
   "outputs": [
    {
     "name": "stdout",
     "output_type": "stream",
     "text": [
      "root\n",
      " |-- end_lat: double (nullable = true)\n",
      " |-- end_lon: double (nullable = true)\n",
      " |-- start_lat: double (nullable = true)\n",
      " |-- start_lon: double (nullable = true)\n",
      " |-- trip_dropoff_datetime: string (nullable = true)\n",
      " |-- trip_pickup_datetime: string (nullable = true)\n",
      "\n"
     ]
    }
   ],
   "source": [
    "sf_header = \"lat_y,long_y,lat_x,long_x,dt_ts_y,dt_ts_x\".split(\",\")\n",
    "\n",
    "sf_new_header = ['end_lat',\n",
    "             'end_lon',\n",
    "             'start_lat',\n",
    "             'start_lon',\n",
    "             'trip_dropoff_datetime',\n",
    "             'trip_pickup_datetime']\n",
    "\n",
    "sf_df = sc.textFile(\"../data/sf_output/sf_data.csv\")\\\n",
    "            .map(lambda x:  x.split(\",\"))\\\n",
    "            .filter(lambda x: (len(x) == len(sf_header)) & (x != sf_header))\\\n",
    "            .map(lambda x: [toFloatSafe(v) for v in x])\\\n",
    "            .toDF(sf_new_header)\n",
    "sf_df.printSchema()"
   ]
  },
  {
   "cell_type": "markdown",
   "metadata": {},
   "source": [
    "## proprcess sf and nyc"
   ]
  },
  {
   "cell_type": "code",
   "execution_count": 11,
   "metadata": {
    "ExecuteTime": {
     "end_time": "2019-01-29T18:48:32.370527Z",
     "start_time": "2019-01-29T18:48:32.361480Z"
    }
   },
   "outputs": [],
   "source": [
    "cell_level = 13\n",
    "\n",
    "def coord_to_id_fun(x, cell_level=cell_level):\n",
    "    lat, lon = x\n",
    "    from s2sphere import CellId, LatLng\n",
    "    cell_id = CellId.from_lat_lng(LatLng.from_degrees(lat, lon))\\\n",
    "    .parent(cell_level).to_token()\n",
    "    return cell_id\n",
    "\n",
    "def get_corners(s2CellId_str, cell_level=cell_level+1, cluster=1):\n",
    "    from s2sphere import CellId, LatLng, Cell\n",
    "    c1 = Cell(CellId(int(s2CellId_str,16)<<(60 - 2*cell_level)))\n",
    "    v0 = LatLng.from_point(c1.get_vertex(0)) # lat/lon of upper/left corner\n",
    "    v1 = LatLng.from_point(c1.get_vertex(1)) # lat/lon of lower/left corner\n",
    "    v2 = LatLng.from_point(c1.get_vertex(2)) # lat/lon of lower/right corner\n",
    "    v3 = LatLng.from_point(c1.get_vertex(3)) # lat/lon of upper/right corner\n",
    "    return ((v0.lat().degrees, v0.lng().degrees, cluster),\n",
    "            (v1.lat().degrees, v1.lng().degrees, cluster),\n",
    "            (v2.lat().degrees, v2.lng().degrees, cluster),\n",
    "            (v3.lat().degrees, v3.lng().degrees, cluster))\n",
    "\n",
    "def distance_fun(x):\n",
    "    import math\n",
    "    lat1, lon1, lat2, lon2 = x\n",
    "    radius = 6371 # km\n",
    "\n",
    "    dlat = math.radians(lat2-lat1)\n",
    "    dlon = math.radians(lon2-lon1)\n",
    "    a = math.sin(dlat/2) * math.sin(dlat/2) + math.cos(math.radians(lat1)) \\\n",
    "        * math.cos(math.radians(lat2)) * math.sin(dlon/2) * math.sin(dlon/2)\n",
    "    c = 2 * math.atan2(math.sqrt(a), math.sqrt(1-a))\n",
    "    d = radius * c\n",
    "    return d\n",
    "\n",
    "\n",
    "coord_to_id = udf(lambda x: coord_to_id_fun(x), StringType())\n",
    "distance = udf(lambda x: distance_fun(x), FloatType())\n",
    "\n",
    "def process_features(df):\n",
    "    df = toDatetime(df, \"trip_pickup_datetime\")\n",
    "    df = toDatetime(df, \"trip_dropoff_datetime\")\n",
    "\n",
    "    df = df.withColumn('dow_dropoff', date_format('trip_dropoff_datetime', 'u').cast(IntegerType()))\\\n",
    "    .withColumn('strdow_dropoff', date_format('trip_dropoff_datetime', 'E'))\\\n",
    "    .withColumn('dow_pickup', date_format('trip_pickup_datetime', 'u').cast(IntegerType()))\\\n",
    "    .withColumn('strdow_pickup', date_format('trip_pickup_datetime', 'E'))\\\n",
    "    .withColumn('hour_pickup', date_format('trip_pickup_datetime', 'H').cast(IntegerType()))\\\n",
    "    .withColumn('hour_dropoff', date_format('trip_dropoff_datetime', 'H').cast(IntegerType()))\n",
    "    \n",
    "    df = df.withColumn(\"is_weekend\", when((df.dow_pickup >= 6) | (df.dow_dropoff >= 6), 1).otherwise(0))\n",
    "\n",
    "    df = df.withColumn(\"start_cell_id\", coord_to_id(array(\"start_lat\", \"start_lon\")))\n",
    "    df = df.withColumn(\"end_cell_id\", coord_to_id(array(\"end_lat\", \"end_lon\")))\n",
    "    df = df.withColumn(\"distance_km\", distance(array(\"start_lat\", \"start_lon\",\"end_lat\", \"end_lon\")))\n",
    "    return df"
   ]
  },
  {
   "cell_type": "code",
   "execution_count": 12,
   "metadata": {},
   "outputs": [
    {
     "name": "stdout",
     "output_type": "stream",
     "text": [
      "root\n",
      " |-- end_lat: double (nullable = true)\n",
      " |-- end_lon: double (nullable = true)\n",
      " |-- start_lat: double (nullable = true)\n",
      " |-- start_lon: double (nullable = true)\n",
      " |-- trip_pickup_datetime: timestamp (nullable = true)\n",
      " |-- trip_dropoff_datetime: timestamp (nullable = true)\n",
      " |-- dow_dropoff: integer (nullable = true)\n",
      " |-- strdow_dropoff: string (nullable = true)\n",
      " |-- dow_pickup: integer (nullable = true)\n",
      " |-- strdow_pickup: string (nullable = true)\n",
      " |-- hour_pickup: integer (nullable = true)\n",
      " |-- hour_dropoff: integer (nullable = true)\n",
      " |-- is_weekend: integer (nullable = false)\n",
      " |-- start_cell_id: string (nullable = true)\n",
      " |-- end_cell_id: string (nullable = true)\n",
      " |-- distance_km: float (nullable = true)\n",
      "\n"
     ]
    }
   ],
   "source": [
    "sf_df = process_features(sf_df)\n",
    "sf_df.cache()\n",
    "sf_df.printSchema()"
   ]
  },
  {
   "cell_type": "code",
   "execution_count": 13,
   "metadata": {},
   "outputs": [
    {
     "name": "stdout",
     "output_type": "stream",
     "text": [
      "root\n",
      " |-- trip_distance: double (nullable = true)\n",
      " |-- start_lon: double (nullable = true)\n",
      " |-- start_lat: double (nullable = true)\n",
      " |-- end_lon: double (nullable = true)\n",
      " |-- end_lat: double (nullable = true)\n",
      " |-- trip_pickup_datetime: timestamp (nullable = true)\n",
      " |-- trip_dropoff_datetime: timestamp (nullable = true)\n",
      " |-- dow_dropoff: integer (nullable = true)\n",
      " |-- strdow_dropoff: string (nullable = true)\n",
      " |-- dow_pickup: integer (nullable = true)\n",
      " |-- strdow_pickup: string (nullable = true)\n",
      " |-- hour_pickup: integer (nullable = true)\n",
      " |-- hour_dropoff: integer (nullable = true)\n",
      " |-- is_weekend: integer (nullable = false)\n",
      " |-- start_cell_id: string (nullable = true)\n",
      " |-- end_cell_id: string (nullable = true)\n",
      " |-- distance_km: float (nullable = true)\n",
      "\n"
     ]
    }
   ],
   "source": [
    "nyc_df = process_features(nyc_df)\n",
    "nyc_df.cache()\n",
    "nyc_df.printSchema()"
   ]
  },
  {
   "cell_type": "markdown",
   "metadata": {},
   "source": [
    "### select same columns with the same order"
   ]
  },
  {
   "cell_type": "code",
   "execution_count": 14,
   "metadata": {},
   "outputs": [],
   "source": [
    "cols_in_order = 'start_lon|start_lat|end_lon|end_lat|trip_pickup_datetime|trip_dropoff_datetime|dow_dropoff|strdow_dropoff|dow_pickup|strdow_pickup|hour_pickup|hour_dropoff|is_weekend|start_cell_id|end_cell_id|distance_km'.split('|')\n",
    "sf_df = sf_df.select(cols_in_order)\n",
    "nyc_df = nyc_df.select(cols_in_order)"
   ]
  },
  {
   "cell_type": "code",
   "execution_count": 15,
   "metadata": {},
   "outputs": [
    {
     "name": "stdout",
     "output_type": "stream",
     "text": [
      "+-------------------+------------------+-------------------+------------------+--------------------+---------------------+-----------+--------------+----------+-------------+-----------+------------+----------+-------------+-----------+-----------+\n",
      "|          start_lon|         start_lat|            end_lon|           end_lat|trip_pickup_datetime|trip_dropoff_datetime|dow_dropoff|strdow_dropoff|dow_pickup|strdow_pickup|hour_pickup|hour_dropoff|is_weekend|start_cell_id|end_cell_id|distance_km|\n",
      "+-------------------+------------------+-------------------+------------------+--------------------+---------------------+-----------+--------------+----------+-------------+-----------+------------+----------+-------------+-----------+-----------+\n",
      "|         -122.39724|          37.74977|-122.41438000000001|37.755520000000004| 2008-05-17 07:51:10|  2008-05-17 07:55:58|          6|           Sat|         6|          Sat|          7|           7|         1|     808f7fac|   808f7e3c|  1.6369368|\n",
      "|         -122.42086|          37.75053|         -122.43095|          37.75177| 2008-05-17 08:18:06|  2008-05-17 08:21:48|          6|           Sat|         6|          Sat|          8|           8|         1|     808f7e44|   808f7e14| 0.89775723|\n",
      "|         -122.41838|          37.77173|         -122.41825|37.771879999999996| 2008-05-17 08:43:51|  2008-05-17 08:45:51|          6|           Sat|         6|          Sat|          8|           8|         1|     808f7e24|   808f7e24|0.020217758|\n",
      "|-122.41833000000001|37.771809999999995|-122.38738000000001|          37.61765| 2008-05-17 08:46:08|  2008-05-17 09:02:46|          6|           Sat|         6|          Sat|          8|           9|         1|     808f7e24|   808f7794|  17.356766|\n",
      "|         -122.41842|           37.7524|-122.41248999999999|           37.7916| 2008-05-17 09:18:40|  2008-05-17 09:34:28|          6|           Sat|         6|          Sat|          9|           9|         1|     808f7e44|   8085808c|   4.389893|\n",
      "+-------------------+------------------+-------------------+------------------+--------------------+---------------------+-----------+--------------+----------+-------------+-----------+------------+----------+-------------+-----------+-----------+\n",
      "only showing top 5 rows\n",
      "\n"
     ]
    }
   ],
   "source": [
    "sf_df.show(5)"
   ]
  },
  {
   "cell_type": "code",
   "execution_count": 16,
   "metadata": {},
   "outputs": [
    {
     "name": "stdout",
     "output_type": "stream",
     "text": [
      "root\n",
      " |-- start_lon: double (nullable = true)\n",
      " |-- start_lat: double (nullable = true)\n",
      " |-- end_lon: double (nullable = true)\n",
      " |-- end_lat: double (nullable = true)\n",
      " |-- trip_pickup_datetime: timestamp (nullable = true)\n",
      " |-- trip_dropoff_datetime: timestamp (nullable = true)\n",
      " |-- dow_dropoff: integer (nullable = true)\n",
      " |-- strdow_dropoff: string (nullable = true)\n",
      " |-- dow_pickup: integer (nullable = true)\n",
      " |-- strdow_pickup: string (nullable = true)\n",
      " |-- hour_pickup: integer (nullable = true)\n",
      " |-- hour_dropoff: integer (nullable = true)\n",
      " |-- is_weekend: integer (nullable = false)\n",
      " |-- start_cell_id: string (nullable = true)\n",
      " |-- end_cell_id: string (nullable = true)\n",
      " |-- distance_km: float (nullable = true)\n",
      "\n"
     ]
    }
   ],
   "source": [
    "sf_df.printSchema()"
   ]
  },
  {
   "cell_type": "code",
   "execution_count": 17,
   "metadata": {},
   "outputs": [
    {
     "name": "stdout",
     "output_type": "stream",
     "text": [
      "root\n",
      " |-- start_lon: double (nullable = true)\n",
      " |-- start_lat: double (nullable = true)\n",
      " |-- end_lon: double (nullable = true)\n",
      " |-- end_lat: double (nullable = true)\n",
      " |-- trip_pickup_datetime: timestamp (nullable = true)\n",
      " |-- trip_dropoff_datetime: timestamp (nullable = true)\n",
      " |-- dow_dropoff: integer (nullable = true)\n",
      " |-- strdow_dropoff: string (nullable = true)\n",
      " |-- dow_pickup: integer (nullable = true)\n",
      " |-- strdow_pickup: string (nullable = true)\n",
      " |-- hour_pickup: integer (nullable = true)\n",
      " |-- hour_dropoff: integer (nullable = true)\n",
      " |-- is_weekend: integer (nullable = false)\n",
      " |-- start_cell_id: string (nullable = true)\n",
      " |-- end_cell_id: string (nullable = true)\n",
      " |-- distance_km: float (nullable = true)\n",
      "\n"
     ]
    }
   ],
   "source": [
    "nyc_df.printSchema()"
   ]
  },
  {
   "cell_type": "code",
   "execution_count": 18,
   "metadata": {},
   "outputs": [
    {
     "name": "stdout",
     "output_type": "stream",
     "text": [
      "+----------+---------+----------+---------+--------------------+---------------------+-----------+--------------+----------+-------------+-----------+------------+----------+-------------+-----------+-----------+\n",
      "| start_lon|start_lat|   end_lon|  end_lat|trip_pickup_datetime|trip_dropoff_datetime|dow_dropoff|strdow_dropoff|dow_pickup|strdow_pickup|hour_pickup|hour_dropoff|is_weekend|start_cell_id|end_cell_id|distance_km|\n",
      "+----------+---------+----------+---------+--------------------+---------------------+-----------+--------------+----------+-------------+-----------+------------+----------+-------------+-----------+-----------+\n",
      "|-73.974105|40.742892|-73.973769|40.746405| 2009-05-27 07:41:05|  2009-05-27 07:42:28|          3|           Wed|         3|          Wed|          7|           7|         0|     89c2590c|   89c25904| 0.39165202|\n",
      "|-74.008148|40.738854|-74.015638|40.714536| 2009-05-27 07:51:06|  2009-05-27 07:58:43|          3|           Wed|         3|          Wed|          7|           7|         0|     89c259ec|   89c25a1c|   2.776722|\n",
      "|-73.973343|40.764047|-73.952663|40.769895| 2009-05-15 15:22:02|  2009-05-15 15:30:15|          5|           Fri|         5|          Fri|         15|          15|         0|     89c258f4|   89c258c4|  1.8590225|\n",
      "|-74.005256| 40.71973|-74.005523|40.745585| 2009-05-26 22:06:37|  2009-05-26 22:15:33|          2|           Tue|         2|          Tue|         22|          22|         0|     89c2598c|   89c259bc|   2.875033|\n",
      "|-73.997714|40.741363|-73.994257| 40.75105| 2009-05-27 12:51:39|  2009-05-27 13:00:46|          3|           Wed|         3|          Wed|         12|          13|         0|     89c259bc|   89c259ac|  1.1158199|\n",
      "+----------+---------+----------+---------+--------------------+---------------------+-----------+--------------+----------+-------------+-----------+------------+----------+-------------+-----------+-----------+\n",
      "only showing top 5 rows\n",
      "\n"
     ]
    }
   ],
   "source": [
    "nyc_df.show(5)"
   ]
  },
  {
   "cell_type": "markdown",
   "metadata": {},
   "source": [
    "### Join SF and NYC data"
   ]
  },
  {
   "cell_type": "code",
   "execution_count": 35,
   "metadata": {},
   "outputs": [],
   "source": []
  },
  {
   "cell_type": "code",
   "execution_count": 49,
   "metadata": {},
   "outputs": [
    {
     "data": {
      "text/plain": [
       "DataFrame[start_lon: double, start_lat: double, end_lon: double, end_lat: double, trip_pickup_datetime: timestamp, trip_dropoff_datetime: timestamp, dow_dropoff: int, strdow_dropoff: string, dow_pickup: int, strdow_pickup: string, hour_pickup: int, hour_dropoff: int, is_weekend: int, start_cell_id: string, end_cell_id: string, distance_km: float, city: string]"
      ]
     },
     "execution_count": 49,
     "metadata": {},
     "output_type": "execute_result"
    }
   ],
   "source": [
    "nyc_sf_df.unpersist()"
   ]
  },
  {
   "cell_type": "code",
   "execution_count": 45,
   "metadata": {},
   "outputs": [
    {
     "name": "stdout",
     "output_type": "stream",
     "text": [
      "CPU times: user 8.41 ms, sys: 3.41 ms, total: 11.8 ms\n",
      "Wall time: 38.1 s\n"
     ]
    },
    {
     "data": {
      "text/plain": [
       "15249659"
      ]
     },
     "execution_count": 45,
     "metadata": {},
     "output_type": "execute_result"
    }
   ],
   "source": [
    "# nyc_sf_df = nyc_df.union(sf_df)\n",
    "# nyc_sf_df.cache()\n",
    "# %time nyc_sf_df.count()"
   ]
  },
  {
   "cell_type": "code",
   "execution_count": 46,
   "metadata": {},
   "outputs": [
    {
     "data": {
      "text/plain": [
       "17"
      ]
     },
     "execution_count": 46,
     "metadata": {},
     "output_type": "execute_result"
    }
   ],
   "source": [
    "len(nyc_sf_df.columns)"
   ]
  },
  {
   "cell_type": "code",
   "execution_count": 47,
   "metadata": {},
   "outputs": [
    {
     "name": "stdout",
     "output_type": "stream",
     "text": [
      "+----------+---------+----------+---------+--------------------+---------------------+-----------+--------------+----------+-------------+-----------+------------+----------+-------------+-----------+-----------+----+\n",
      "| start_lon|start_lat|   end_lon|  end_lat|trip_pickup_datetime|trip_dropoff_datetime|dow_dropoff|strdow_dropoff|dow_pickup|strdow_pickup|hour_pickup|hour_dropoff|is_weekend|start_cell_id|end_cell_id|distance_km|city|\n",
      "+----------+---------+----------+---------+--------------------+---------------------+-----------+--------------+----------+-------------+-----------+------------+----------+-------------+-----------+-----------+----+\n",
      "|-73.974105|40.742892|-73.973769|40.746405| 2009-05-27 07:41:05|  2009-05-27 07:42:28|          3|           Wed|         3|          Wed|          7|           7|         0|     89c2590c|   89c25904| 0.39165202|  NY|\n",
      "|-74.008148|40.738854|-74.015638|40.714536| 2009-05-27 07:51:06|  2009-05-27 07:58:43|          3|           Wed|         3|          Wed|          7|           7|         0|     89c259ec|   89c25a1c|   2.776722|  NY|\n",
      "|-73.973343|40.764047|-73.952663|40.769895| 2009-05-15 15:22:02|  2009-05-15 15:30:15|          5|           Fri|         5|          Fri|         15|          15|         0|     89c258f4|   89c258c4|  1.8590225|  NY|\n",
      "|-74.005256| 40.71973|-74.005523|40.745585| 2009-05-26 22:06:37|  2009-05-26 22:15:33|          2|           Tue|         2|          Tue|         22|          22|         0|     89c2598c|   89c259bc|   2.875033|  NY|\n",
      "|-73.997714|40.741363|-73.994257| 40.75105| 2009-05-27 12:51:39|  2009-05-27 13:00:46|          3|           Wed|         3|          Wed|         12|          13|         0|     89c259bc|   89c259ac|  1.1158199|  NY|\n",
      "+----------+---------+----------+---------+--------------------+---------------------+-----------+--------------+----------+-------------+-----------+------------+----------+-------------+-----------+-----------+----+\n",
      "only showing top 5 rows\n",
      "\n"
     ]
    }
   ],
   "source": [
    "nyc_sf_df.show(5)"
   ]
  },
  {
   "cell_type": "code",
   "execution_count": 54,
   "metadata": {},
   "outputs": [],
   "source": [
    "# nyc_df.write.csv(\"../data/nyc_sf_df\")"
   ]
  },
  {
   "cell_type": "markdown",
   "metadata": {
    "collapsed": true
   },
   "source": [
    "### Gather features by cell"
   ]
  },
  {
   "cell_type": "code",
   "execution_count": 48,
   "metadata": {},
   "outputs": [],
   "source": [
    "def pivot_column(df, group_col, pv_col, prefix):\n",
    "    orig_cols = set(df.columns)\n",
    "    new_df = df.groupBy(group_col).pivot(pv_col).count()\n",
    "    new_cols = new_df.columns\n",
    "    new_cols = [c if c in orig_cols else prefix + c for c in new_cols]\n",
    "    new_df = new_df.toDF(*new_cols)\n",
    "    new_df = new_df.na.fill(0, list(set(new_cols) - orig_cols))\n",
    "    return new_df"
   ]
  },
  {
   "cell_type": "code",
   "execution_count": 39,
   "metadata": {},
   "outputs": [],
   "source": [
    "def create_features(df):\n",
    "    dow_pickup_df = pivot_column(df, group_col = \"start_cell_id\", \n",
    "                                     pv_col = \"dow_pickup\", prefix = \"dow_pickup_\")\\\n",
    "                                     .withColumnRenamed(\"start_cell_id\", \"cell_id\")\n",
    "\n",
    "    dow_dropoff_df = pivot_column(df, group_col = \"end_cell_id\", \n",
    "                                      pv_col = \"dow_dropoff\", prefix = \"dow_dropoff_\")\\\n",
    "                                      .withColumnRenamed(\"end_cell_id\", \"cell_id\")\n",
    "\n",
    "    hr_pickup_wkday_df = pivot_column(df.filter(df.dow_pickup<6), \n",
    "                                                               group_col = \"start_cell_id\", \n",
    "                                                               pv_col = \"hour_pickup\", \n",
    "                                                               prefix = \"hr_pickup_wkday\")\\\n",
    "                                                               .withColumnRenamed(\"start_cell_id\", \"cell_id\")\n",
    "\n",
    "    hr_dropoff_wkday_df = pivot_column(df.filter(df.dow_dropoff<6), \n",
    "                                                               group_col = \"end_cell_id\", \n",
    "                                                               pv_col = \"hour_dropoff\", \n",
    "                                                               prefix = \"hr_dropoff_wkday\")\\\n",
    "                                                               .withColumnRenamed(\"end_cell_id\", \"cell_id\")\n",
    "\n",
    "    hr_pickup_wkend_df = pivot_column(df.filter(df.dow_pickup>=6), \n",
    "                                                               group_col = \"start_cell_id\", \n",
    "                                                               pv_col = \"hour_pickup\", \n",
    "                                                               prefix = \"hr_pickup_wkend\")\\\n",
    "                                                               .withColumnRenamed(\"start_cell_id\", \"cell_id\")\n",
    "\n",
    "    hr_dropoff_wkend_df = pivot_column(df.filter(df.dow_dropoff>=6), \n",
    "                                                               group_col = \"end_cell_id\", \n",
    "                                                               pv_col = \"hour_dropoff\", \n",
    "                                                               prefix = \"hr_dropoff_wkend\")\\\n",
    "                                                               .withColumnRenamed(\"end_cell_id\", \"cell_id\")\n",
    "\n",
    "    pickup_km_df = df.groupBy(\"start_cell_id\").agg(avg(\"distance_km\"),stddev(\"distance_km\"))\\\n",
    "                        .withColumnRenamed(\"avg(distance_km)\", \"avg_pickup_km\")\\\n",
    "                        .withColumnRenamed(\"stddev_samp(distance_km)\", \"std_pickup_km\")\\\n",
    "                        .withColumnRenamed(\"start_cell_id\", \"cell_id\")\n",
    "\n",
    "    dropoff_km_df = df.groupBy(\"end_cell_id\").agg(avg(\"distance_km\"),stddev(\"distance_km\"))\\\n",
    "                        .withColumnRenamed(\"avg(distance_km)\", \"avg_dropoff_km\")\\\n",
    "                        .withColumnRenamed(\"stddev_samp(distance_km)\", \"std_dropoff_km\")\\\n",
    "                        .withColumnRenamed(\"end_cell_id\", \"cell_id\")\n",
    "\n",
    "    cell_df = merge_dfs([dow_pickup_df, dow_dropoff_df, \n",
    "              hr_pickup_wkday_df, hr_dropoff_wkday_df,\n",
    "              hr_pickup_wkend_df, hr_dropoff_wkend_df,\n",
    "              pickup_km_df, dropoff_km_df\n",
    "             ])\n",
    "\n",
    "    cell_df = cell_df.na.fill(0)\n",
    "\n",
    "    cell_df.printSchema()\n",
    "    \n",
    "    feature_columns = [c for c in cell_df.columns if c != \"cell_id\"]\n",
    "\n",
    "    for c in feature_columns:\n",
    "        cell_df = cell_df.withColumn(c+\"_f\", cell_df[c].cast(FloatType()))\n",
    "        cell_df = cell_df.drop(c)\n",
    "        cell_df = cell_df.withColumnRenamed(c+\"_f\",c)\n",
    "\n",
    "    cell_df.cache()\n",
    "\n",
    "    print(cell_df.count(), len(cell_df.columns))\n",
    "\n",
    "    return cell_df"
   ]
  },
  {
   "cell_type": "code",
   "execution_count": 40,
   "metadata": {},
   "outputs": [],
   "source": [
    "def merge_dfs(dfs):\n",
    "    first_df = None\n",
    "    for df in dfs:\n",
    "        if first_df is None:\n",
    "            first_df = df\n",
    "        else:\n",
    "            first_df = first_df.join(df, \"cell_id\", \"left_outer\")\n",
    "    return first_df"
   ]
  },
  {
   "cell_type": "code",
   "execution_count": 50,
   "metadata": {},
   "outputs": [
    {
     "name": "stdout",
     "output_type": "stream",
     "text": [
      "root\n",
      " |-- cell_id: string (nullable = true)\n",
      " |-- dow_pickup_1: long (nullable = true)\n",
      " |-- dow_pickup_2: long (nullable = true)\n",
      " |-- dow_pickup_3: long (nullable = true)\n",
      " |-- dow_pickup_4: long (nullable = true)\n",
      " |-- dow_pickup_5: long (nullable = true)\n",
      " |-- dow_pickup_6: long (nullable = true)\n",
      " |-- dow_pickup_7: long (nullable = true)\n",
      " |-- dow_dropoff_1: long (nullable = true)\n",
      " |-- dow_dropoff_2: long (nullable = true)\n",
      " |-- dow_dropoff_3: long (nullable = true)\n",
      " |-- dow_dropoff_4: long (nullable = true)\n",
      " |-- dow_dropoff_5: long (nullable = true)\n",
      " |-- dow_dropoff_6: long (nullable = true)\n",
      " |-- dow_dropoff_7: long (nullable = true)\n",
      " |-- hr_pickup_wkday0: long (nullable = true)\n",
      " |-- hr_pickup_wkday1: long (nullable = true)\n",
      " |-- hr_pickup_wkday2: long (nullable = true)\n",
      " |-- hr_pickup_wkday3: long (nullable = true)\n",
      " |-- hr_pickup_wkday4: long (nullable = true)\n",
      " |-- hr_pickup_wkday5: long (nullable = true)\n",
      " |-- hr_pickup_wkday6: long (nullable = true)\n",
      " |-- hr_pickup_wkday7: long (nullable = true)\n",
      " |-- hr_pickup_wkday8: long (nullable = true)\n",
      " |-- hr_pickup_wkday9: long (nullable = true)\n",
      " |-- hr_pickup_wkday10: long (nullable = true)\n",
      " |-- hr_pickup_wkday11: long (nullable = true)\n",
      " |-- hr_pickup_wkday12: long (nullable = true)\n",
      " |-- hr_pickup_wkday13: long (nullable = true)\n",
      " |-- hr_pickup_wkday14: long (nullable = true)\n",
      " |-- hr_pickup_wkday15: long (nullable = true)\n",
      " |-- hr_pickup_wkday16: long (nullable = true)\n",
      " |-- hr_pickup_wkday17: long (nullable = true)\n",
      " |-- hr_pickup_wkday18: long (nullable = true)\n",
      " |-- hr_pickup_wkday19: long (nullable = true)\n",
      " |-- hr_pickup_wkday20: long (nullable = true)\n",
      " |-- hr_pickup_wkday21: long (nullable = true)\n",
      " |-- hr_pickup_wkday22: long (nullable = true)\n",
      " |-- hr_pickup_wkday23: long (nullable = true)\n",
      " |-- hr_dropoff_wkday0: long (nullable = true)\n",
      " |-- hr_dropoff_wkday1: long (nullable = true)\n",
      " |-- hr_dropoff_wkday2: long (nullable = true)\n",
      " |-- hr_dropoff_wkday3: long (nullable = true)\n",
      " |-- hr_dropoff_wkday4: long (nullable = true)\n",
      " |-- hr_dropoff_wkday5: long (nullable = true)\n",
      " |-- hr_dropoff_wkday6: long (nullable = true)\n",
      " |-- hr_dropoff_wkday7: long (nullable = true)\n",
      " |-- hr_dropoff_wkday8: long (nullable = true)\n",
      " |-- hr_dropoff_wkday9: long (nullable = true)\n",
      " |-- hr_dropoff_wkday10: long (nullable = true)\n",
      " |-- hr_dropoff_wkday11: long (nullable = true)\n",
      " |-- hr_dropoff_wkday12: long (nullable = true)\n",
      " |-- hr_dropoff_wkday13: long (nullable = true)\n",
      " |-- hr_dropoff_wkday14: long (nullable = true)\n",
      " |-- hr_dropoff_wkday15: long (nullable = true)\n",
      " |-- hr_dropoff_wkday16: long (nullable = true)\n",
      " |-- hr_dropoff_wkday17: long (nullable = true)\n",
      " |-- hr_dropoff_wkday18: long (nullable = true)\n",
      " |-- hr_dropoff_wkday19: long (nullable = true)\n",
      " |-- hr_dropoff_wkday20: long (nullable = true)\n",
      " |-- hr_dropoff_wkday21: long (nullable = true)\n",
      " |-- hr_dropoff_wkday22: long (nullable = true)\n",
      " |-- hr_dropoff_wkday23: long (nullable = true)\n",
      " |-- hr_pickup_wkend0: long (nullable = true)\n",
      " |-- hr_pickup_wkend1: long (nullable = true)\n",
      " |-- hr_pickup_wkend2: long (nullable = true)\n",
      " |-- hr_pickup_wkend3: long (nullable = true)\n",
      " |-- hr_pickup_wkend4: long (nullable = true)\n",
      " |-- hr_pickup_wkend5: long (nullable = true)\n",
      " |-- hr_pickup_wkend6: long (nullable = true)\n",
      " |-- hr_pickup_wkend7: long (nullable = true)\n",
      " |-- hr_pickup_wkend8: long (nullable = true)\n",
      " |-- hr_pickup_wkend9: long (nullable = true)\n",
      " |-- hr_pickup_wkend10: long (nullable = true)\n",
      " |-- hr_pickup_wkend11: long (nullable = true)\n",
      " |-- hr_pickup_wkend12: long (nullable = true)\n",
      " |-- hr_pickup_wkend13: long (nullable = true)\n",
      " |-- hr_pickup_wkend14: long (nullable = true)\n",
      " |-- hr_pickup_wkend15: long (nullable = true)\n",
      " |-- hr_pickup_wkend16: long (nullable = true)\n",
      " |-- hr_pickup_wkend17: long (nullable = true)\n",
      " |-- hr_pickup_wkend18: long (nullable = true)\n",
      " |-- hr_pickup_wkend19: long (nullable = true)\n",
      " |-- hr_pickup_wkend20: long (nullable = true)\n",
      " |-- hr_pickup_wkend21: long (nullable = true)\n",
      " |-- hr_pickup_wkend22: long (nullable = true)\n",
      " |-- hr_pickup_wkend23: long (nullable = true)\n",
      " |-- hr_dropoff_wkend0: long (nullable = true)\n",
      " |-- hr_dropoff_wkend1: long (nullable = true)\n",
      " |-- hr_dropoff_wkend2: long (nullable = true)\n",
      " |-- hr_dropoff_wkend3: long (nullable = true)\n",
      " |-- hr_dropoff_wkend4: long (nullable = true)\n",
      " |-- hr_dropoff_wkend5: long (nullable = true)\n",
      " |-- hr_dropoff_wkend6: long (nullable = true)\n",
      " |-- hr_dropoff_wkend7: long (nullable = true)\n",
      " |-- hr_dropoff_wkend8: long (nullable = true)\n",
      " |-- hr_dropoff_wkend9: long (nullable = true)\n",
      " |-- hr_dropoff_wkend10: long (nullable = true)\n",
      " |-- hr_dropoff_wkend11: long (nullable = true)\n",
      " |-- hr_dropoff_wkend12: long (nullable = true)\n",
      " |-- hr_dropoff_wkend13: long (nullable = true)\n",
      " |-- hr_dropoff_wkend14: long (nullable = true)\n",
      " |-- hr_dropoff_wkend15: long (nullable = true)\n",
      " |-- hr_dropoff_wkend16: long (nullable = true)\n",
      " |-- hr_dropoff_wkend17: long (nullable = true)\n",
      " |-- hr_dropoff_wkend18: long (nullable = true)\n",
      " |-- hr_dropoff_wkend19: long (nullable = true)\n",
      " |-- hr_dropoff_wkend20: long (nullable = true)\n",
      " |-- hr_dropoff_wkend21: long (nullable = true)\n",
      " |-- hr_dropoff_wkend22: long (nullable = true)\n",
      " |-- hr_dropoff_wkend23: long (nullable = true)\n",
      " |-- avg_pickup_km: double (nullable = false)\n",
      " |-- std_pickup_km: double (nullable = false)\n",
      " |-- avg_dropoff_km: double (nullable = false)\n",
      " |-- std_dropoff_km: double (nullable = false)\n",
      "\n",
      "6174 115\n"
     ]
    },
    {
     "data": {
      "text/plain": [
       "DataFrame[cell_id: string, dow_pickup_1: float, dow_pickup_2: float, dow_pickup_3: float, dow_pickup_4: float, dow_pickup_5: float, dow_pickup_6: float, dow_pickup_7: float, dow_dropoff_1: float, dow_dropoff_2: float, dow_dropoff_3: float, dow_dropoff_4: float, dow_dropoff_5: float, dow_dropoff_6: float, dow_dropoff_7: float, hr_pickup_wkday0: float, hr_pickup_wkday1: float, hr_pickup_wkday2: float, hr_pickup_wkday3: float, hr_pickup_wkday4: float, hr_pickup_wkday5: float, hr_pickup_wkday6: float, hr_pickup_wkday7: float, hr_pickup_wkday8: float, hr_pickup_wkday9: float, hr_pickup_wkday10: float, hr_pickup_wkday11: float, hr_pickup_wkday12: float, hr_pickup_wkday13: float, hr_pickup_wkday14: float, hr_pickup_wkday15: float, hr_pickup_wkday16: float, hr_pickup_wkday17: float, hr_pickup_wkday18: float, hr_pickup_wkday19: float, hr_pickup_wkday20: float, hr_pickup_wkday21: float, hr_pickup_wkday22: float, hr_pickup_wkday23: float, hr_dropoff_wkday0: float, hr_dropoff_wkday1: float, hr_dropoff_wkday2: float, hr_dropoff_wkday3: float, hr_dropoff_wkday4: float, hr_dropoff_wkday5: float, hr_dropoff_wkday6: float, hr_dropoff_wkday7: float, hr_dropoff_wkday8: float, hr_dropoff_wkday9: float, hr_dropoff_wkday10: float, hr_dropoff_wkday11: float, hr_dropoff_wkday12: float, hr_dropoff_wkday13: float, hr_dropoff_wkday14: float, hr_dropoff_wkday15: float, hr_dropoff_wkday16: float, hr_dropoff_wkday17: float, hr_dropoff_wkday18: float, hr_dropoff_wkday19: float, hr_dropoff_wkday20: float, hr_dropoff_wkday21: float, hr_dropoff_wkday22: float, hr_dropoff_wkday23: float, hr_pickup_wkend0: float, hr_pickup_wkend1: float, hr_pickup_wkend2: float, hr_pickup_wkend3: float, hr_pickup_wkend4: float, hr_pickup_wkend5: float, hr_pickup_wkend6: float, hr_pickup_wkend7: float, hr_pickup_wkend8: float, hr_pickup_wkend9: float, hr_pickup_wkend10: float, hr_pickup_wkend11: float, hr_pickup_wkend12: float, hr_pickup_wkend13: float, hr_pickup_wkend14: float, hr_pickup_wkend15: float, hr_pickup_wkend16: float, hr_pickup_wkend17: float, hr_pickup_wkend18: float, hr_pickup_wkend19: float, hr_pickup_wkend20: float, hr_pickup_wkend21: float, hr_pickup_wkend22: float, hr_pickup_wkend23: float, hr_dropoff_wkend0: float, hr_dropoff_wkend1: float, hr_dropoff_wkend2: float, hr_dropoff_wkend3: float, hr_dropoff_wkend4: float, hr_dropoff_wkend5: float, hr_dropoff_wkend6: float, hr_dropoff_wkend7: float, hr_dropoff_wkend8: float, hr_dropoff_wkend9: float, hr_dropoff_wkend10: float, hr_dropoff_wkend11: float, hr_dropoff_wkend12: float, hr_dropoff_wkend13: float, hr_dropoff_wkend14: float, hr_dropoff_wkend15: float, hr_dropoff_wkend16: float, hr_dropoff_wkend17: float, hr_dropoff_wkend18: float, hr_dropoff_wkend19: float, hr_dropoff_wkend20: float, hr_dropoff_wkend21: float, hr_dropoff_wkend22: float, hr_dropoff_wkend23: float, avg_pickup_km: float, std_pickup_km: float, avg_dropoff_km: float, std_dropoff_km: float]"
      ]
     },
     "execution_count": 50,
     "metadata": {},
     "output_type": "execute_result"
    }
   ],
   "source": [
    "nyc_df_cell = create_features(nyc_df)\n",
    "nyc_df_cell.cache()"
   ]
  },
  {
   "cell_type": "code",
   "execution_count": 51,
   "metadata": {},
   "outputs": [
    {
     "name": "stdout",
     "output_type": "stream",
     "text": [
      "root\n",
      " |-- cell_id: string (nullable = true)\n",
      " |-- dow_pickup_1: long (nullable = true)\n",
      " |-- dow_pickup_2: long (nullable = true)\n",
      " |-- dow_pickup_3: long (nullable = true)\n",
      " |-- dow_pickup_4: long (nullable = true)\n",
      " |-- dow_pickup_5: long (nullable = true)\n",
      " |-- dow_pickup_6: long (nullable = true)\n",
      " |-- dow_pickup_7: long (nullable = true)\n",
      " |-- dow_dropoff_1: long (nullable = true)\n",
      " |-- dow_dropoff_2: long (nullable = true)\n",
      " |-- dow_dropoff_3: long (nullable = true)\n",
      " |-- dow_dropoff_4: long (nullable = true)\n",
      " |-- dow_dropoff_5: long (nullable = true)\n",
      " |-- dow_dropoff_6: long (nullable = true)\n",
      " |-- dow_dropoff_7: long (nullable = true)\n",
      " |-- hr_pickup_wkday0: long (nullable = true)\n",
      " |-- hr_pickup_wkday1: long (nullable = true)\n",
      " |-- hr_pickup_wkday2: long (nullable = true)\n",
      " |-- hr_pickup_wkday3: long (nullable = true)\n",
      " |-- hr_pickup_wkday4: long (nullable = true)\n",
      " |-- hr_pickup_wkday5: long (nullable = true)\n",
      " |-- hr_pickup_wkday6: long (nullable = true)\n",
      " |-- hr_pickup_wkday7: long (nullable = true)\n",
      " |-- hr_pickup_wkday8: long (nullable = true)\n",
      " |-- hr_pickup_wkday9: long (nullable = true)\n",
      " |-- hr_pickup_wkday10: long (nullable = true)\n",
      " |-- hr_pickup_wkday11: long (nullable = true)\n",
      " |-- hr_pickup_wkday12: long (nullable = true)\n",
      " |-- hr_pickup_wkday13: long (nullable = true)\n",
      " |-- hr_pickup_wkday14: long (nullable = true)\n",
      " |-- hr_pickup_wkday15: long (nullable = true)\n",
      " |-- hr_pickup_wkday16: long (nullable = true)\n",
      " |-- hr_pickup_wkday17: long (nullable = true)\n",
      " |-- hr_pickup_wkday18: long (nullable = true)\n",
      " |-- hr_pickup_wkday19: long (nullable = true)\n",
      " |-- hr_pickup_wkday20: long (nullable = true)\n",
      " |-- hr_pickup_wkday21: long (nullable = true)\n",
      " |-- hr_pickup_wkday22: long (nullable = true)\n",
      " |-- hr_pickup_wkday23: long (nullable = true)\n",
      " |-- hr_dropoff_wkday0: long (nullable = true)\n",
      " |-- hr_dropoff_wkday1: long (nullable = true)\n",
      " |-- hr_dropoff_wkday2: long (nullable = true)\n",
      " |-- hr_dropoff_wkday3: long (nullable = true)\n",
      " |-- hr_dropoff_wkday4: long (nullable = true)\n",
      " |-- hr_dropoff_wkday5: long (nullable = true)\n",
      " |-- hr_dropoff_wkday6: long (nullable = true)\n",
      " |-- hr_dropoff_wkday7: long (nullable = true)\n",
      " |-- hr_dropoff_wkday8: long (nullable = true)\n",
      " |-- hr_dropoff_wkday9: long (nullable = true)\n",
      " |-- hr_dropoff_wkday10: long (nullable = true)\n",
      " |-- hr_dropoff_wkday11: long (nullable = true)\n",
      " |-- hr_dropoff_wkday12: long (nullable = true)\n",
      " |-- hr_dropoff_wkday13: long (nullable = true)\n",
      " |-- hr_dropoff_wkday14: long (nullable = true)\n",
      " |-- hr_dropoff_wkday15: long (nullable = true)\n",
      " |-- hr_dropoff_wkday16: long (nullable = true)\n",
      " |-- hr_dropoff_wkday17: long (nullable = true)\n",
      " |-- hr_dropoff_wkday18: long (nullable = true)\n",
      " |-- hr_dropoff_wkday19: long (nullable = true)\n",
      " |-- hr_dropoff_wkday20: long (nullable = true)\n",
      " |-- hr_dropoff_wkday21: long (nullable = true)\n",
      " |-- hr_dropoff_wkday22: long (nullable = true)\n",
      " |-- hr_dropoff_wkday23: long (nullable = true)\n",
      " |-- hr_pickup_wkend0: long (nullable = true)\n",
      " |-- hr_pickup_wkend1: long (nullable = true)\n",
      " |-- hr_pickup_wkend2: long (nullable = true)\n",
      " |-- hr_pickup_wkend3: long (nullable = true)\n",
      " |-- hr_pickup_wkend4: long (nullable = true)\n",
      " |-- hr_pickup_wkend5: long (nullable = true)\n",
      " |-- hr_pickup_wkend6: long (nullable = true)\n",
      " |-- hr_pickup_wkend7: long (nullable = true)\n",
      " |-- hr_pickup_wkend8: long (nullable = true)\n",
      " |-- hr_pickup_wkend9: long (nullable = true)\n",
      " |-- hr_pickup_wkend10: long (nullable = true)\n",
      " |-- hr_pickup_wkend11: long (nullable = true)\n",
      " |-- hr_pickup_wkend12: long (nullable = true)\n",
      " |-- hr_pickup_wkend13: long (nullable = true)\n",
      " |-- hr_pickup_wkend14: long (nullable = true)\n",
      " |-- hr_pickup_wkend15: long (nullable = true)\n",
      " |-- hr_pickup_wkend16: long (nullable = true)\n",
      " |-- hr_pickup_wkend17: long (nullable = true)\n",
      " |-- hr_pickup_wkend18: long (nullable = true)\n",
      " |-- hr_pickup_wkend19: long (nullable = true)\n",
      " |-- hr_pickup_wkend20: long (nullable = true)\n",
      " |-- hr_pickup_wkend21: long (nullable = true)\n",
      " |-- hr_pickup_wkend22: long (nullable = true)\n",
      " |-- hr_pickup_wkend23: long (nullable = true)\n",
      " |-- hr_dropoff_wkend0: long (nullable = true)\n",
      " |-- hr_dropoff_wkend1: long (nullable = true)\n",
      " |-- hr_dropoff_wkend2: long (nullable = true)\n",
      " |-- hr_dropoff_wkend3: long (nullable = true)\n",
      " |-- hr_dropoff_wkend4: long (nullable = true)\n",
      " |-- hr_dropoff_wkend5: long (nullable = true)\n",
      " |-- hr_dropoff_wkend6: long (nullable = true)\n",
      " |-- hr_dropoff_wkend7: long (nullable = true)\n",
      " |-- hr_dropoff_wkend8: long (nullable = true)\n",
      " |-- hr_dropoff_wkend9: long (nullable = true)\n",
      " |-- hr_dropoff_wkend10: long (nullable = true)\n",
      " |-- hr_dropoff_wkend11: long (nullable = true)\n",
      " |-- hr_dropoff_wkend12: long (nullable = true)\n",
      " |-- hr_dropoff_wkend13: long (nullable = true)\n",
      " |-- hr_dropoff_wkend14: long (nullable = true)\n",
      " |-- hr_dropoff_wkend15: long (nullable = true)\n",
      " |-- hr_dropoff_wkend16: long (nullable = true)\n",
      " |-- hr_dropoff_wkend17: long (nullable = true)\n",
      " |-- hr_dropoff_wkend18: long (nullable = true)\n",
      " |-- hr_dropoff_wkend19: long (nullable = true)\n",
      " |-- hr_dropoff_wkend20: long (nullable = true)\n",
      " |-- hr_dropoff_wkend21: long (nullable = true)\n",
      " |-- hr_dropoff_wkend22: long (nullable = true)\n",
      " |-- hr_dropoff_wkend23: long (nullable = true)\n",
      " |-- avg_pickup_km: double (nullable = false)\n",
      " |-- std_pickup_km: double (nullable = false)\n",
      " |-- avg_dropoff_km: double (nullable = false)\n",
      " |-- std_dropoff_km: double (nullable = false)\n",
      "\n",
      "513 115\n"
     ]
    },
    {
     "data": {
      "text/plain": [
       "DataFrame[cell_id: string, dow_pickup_1: float, dow_pickup_2: float, dow_pickup_3: float, dow_pickup_4: float, dow_pickup_5: float, dow_pickup_6: float, dow_pickup_7: float, dow_dropoff_1: float, dow_dropoff_2: float, dow_dropoff_3: float, dow_dropoff_4: float, dow_dropoff_5: float, dow_dropoff_6: float, dow_dropoff_7: float, hr_pickup_wkday0: float, hr_pickup_wkday1: float, hr_pickup_wkday2: float, hr_pickup_wkday3: float, hr_pickup_wkday4: float, hr_pickup_wkday5: float, hr_pickup_wkday6: float, hr_pickup_wkday7: float, hr_pickup_wkday8: float, hr_pickup_wkday9: float, hr_pickup_wkday10: float, hr_pickup_wkday11: float, hr_pickup_wkday12: float, hr_pickup_wkday13: float, hr_pickup_wkday14: float, hr_pickup_wkday15: float, hr_pickup_wkday16: float, hr_pickup_wkday17: float, hr_pickup_wkday18: float, hr_pickup_wkday19: float, hr_pickup_wkday20: float, hr_pickup_wkday21: float, hr_pickup_wkday22: float, hr_pickup_wkday23: float, hr_dropoff_wkday0: float, hr_dropoff_wkday1: float, hr_dropoff_wkday2: float, hr_dropoff_wkday3: float, hr_dropoff_wkday4: float, hr_dropoff_wkday5: float, hr_dropoff_wkday6: float, hr_dropoff_wkday7: float, hr_dropoff_wkday8: float, hr_dropoff_wkday9: float, hr_dropoff_wkday10: float, hr_dropoff_wkday11: float, hr_dropoff_wkday12: float, hr_dropoff_wkday13: float, hr_dropoff_wkday14: float, hr_dropoff_wkday15: float, hr_dropoff_wkday16: float, hr_dropoff_wkday17: float, hr_dropoff_wkday18: float, hr_dropoff_wkday19: float, hr_dropoff_wkday20: float, hr_dropoff_wkday21: float, hr_dropoff_wkday22: float, hr_dropoff_wkday23: float, hr_pickup_wkend0: float, hr_pickup_wkend1: float, hr_pickup_wkend2: float, hr_pickup_wkend3: float, hr_pickup_wkend4: float, hr_pickup_wkend5: float, hr_pickup_wkend6: float, hr_pickup_wkend7: float, hr_pickup_wkend8: float, hr_pickup_wkend9: float, hr_pickup_wkend10: float, hr_pickup_wkend11: float, hr_pickup_wkend12: float, hr_pickup_wkend13: float, hr_pickup_wkend14: float, hr_pickup_wkend15: float, hr_pickup_wkend16: float, hr_pickup_wkend17: float, hr_pickup_wkend18: float, hr_pickup_wkend19: float, hr_pickup_wkend20: float, hr_pickup_wkend21: float, hr_pickup_wkend22: float, hr_pickup_wkend23: float, hr_dropoff_wkend0: float, hr_dropoff_wkend1: float, hr_dropoff_wkend2: float, hr_dropoff_wkend3: float, hr_dropoff_wkend4: float, hr_dropoff_wkend5: float, hr_dropoff_wkend6: float, hr_dropoff_wkend7: float, hr_dropoff_wkend8: float, hr_dropoff_wkend9: float, hr_dropoff_wkend10: float, hr_dropoff_wkend11: float, hr_dropoff_wkend12: float, hr_dropoff_wkend13: float, hr_dropoff_wkend14: float, hr_dropoff_wkend15: float, hr_dropoff_wkend16: float, hr_dropoff_wkend17: float, hr_dropoff_wkend18: float, hr_dropoff_wkend19: float, hr_dropoff_wkend20: float, hr_dropoff_wkend21: float, hr_dropoff_wkend22: float, hr_dropoff_wkend23: float, avg_pickup_km: float, std_pickup_km: float, avg_dropoff_km: float, std_dropoff_km: float]"
      ]
     },
     "execution_count": 51,
     "metadata": {},
     "output_type": "execute_result"
    }
   ],
   "source": [
    "sf_df_cell = create_features(sf_df)\n",
    "sf_df_cell.cache()"
   ]
  },
  {
   "cell_type": "code",
   "execution_count": 52,
   "metadata": {},
   "outputs": [],
   "source": [
    "nyc_df_cell = nyc_df_cell.withColumn(\"city\", lit(\"NY\"))\n",
    "sf_df_cell = sf_df_cell.withColumn(\"city\", lit(\"SF\"))"
   ]
  },
  {
   "cell_type": "code",
   "execution_count": 54,
   "metadata": {},
   "outputs": [
    {
     "name": "stdout",
     "output_type": "stream",
     "text": [
      "CPU times: user 6.63 ms, sys: 2.64 ms, total: 9.27 ms\n",
      "Wall time: 2.76 s\n"
     ]
    },
    {
     "data": {
      "text/plain": [
       "15249659"
      ]
     },
     "execution_count": 54,
     "metadata": {},
     "output_type": "execute_result"
    }
   ],
   "source": [
    "nyc_sf_df_cell = nyc_df_cell.union(sf_df_cell)\n",
    "nyc_sf_df_cell.cache()\n",
    "%time nyc_sf_df.count()"
   ]
  },
  {
   "cell_type": "code",
   "execution_count": 55,
   "metadata": {},
   "outputs": [
    {
     "data": {
      "text/plain": [
       "(6687, 116)"
      ]
     },
     "execution_count": 55,
     "metadata": {},
     "output_type": "execute_result"
    }
   ],
   "source": [
    "(nyc_sf_df_cell.count(), len(nyc_sf_df_cell.columns))"
   ]
  },
  {
   "cell_type": "code",
   "execution_count": 56,
   "metadata": {},
   "outputs": [
    {
     "data": {
      "text/plain": [
       "DataFrame[cell_id: string, dow_pickup_1: float, dow_pickup_2: float, dow_pickup_3: float, dow_pickup_4: float, dow_pickup_5: float, dow_pickup_6: float, dow_pickup_7: float, dow_dropoff_1: float, dow_dropoff_2: float, dow_dropoff_3: float, dow_dropoff_4: float, dow_dropoff_5: float, dow_dropoff_6: float, dow_dropoff_7: float, hr_pickup_wkday0: float, hr_pickup_wkday1: float, hr_pickup_wkday2: float, hr_pickup_wkday3: float, hr_pickup_wkday4: float, hr_pickup_wkday5: float, hr_pickup_wkday6: float, hr_pickup_wkday7: float, hr_pickup_wkday8: float, hr_pickup_wkday9: float, hr_pickup_wkday10: float, hr_pickup_wkday11: float, hr_pickup_wkday12: float, hr_pickup_wkday13: float, hr_pickup_wkday14: float, hr_pickup_wkday15: float, hr_pickup_wkday16: float, hr_pickup_wkday17: float, hr_pickup_wkday18: float, hr_pickup_wkday19: float, hr_pickup_wkday20: float, hr_pickup_wkday21: float, hr_pickup_wkday22: float, hr_pickup_wkday23: float, hr_dropoff_wkday0: float, hr_dropoff_wkday1: float, hr_dropoff_wkday2: float, hr_dropoff_wkday3: float, hr_dropoff_wkday4: float, hr_dropoff_wkday5: float, hr_dropoff_wkday6: float, hr_dropoff_wkday7: float, hr_dropoff_wkday8: float, hr_dropoff_wkday9: float, hr_dropoff_wkday10: float, hr_dropoff_wkday11: float, hr_dropoff_wkday12: float, hr_dropoff_wkday13: float, hr_dropoff_wkday14: float, hr_dropoff_wkday15: float, hr_dropoff_wkday16: float, hr_dropoff_wkday17: float, hr_dropoff_wkday18: float, hr_dropoff_wkday19: float, hr_dropoff_wkday20: float, hr_dropoff_wkday21: float, hr_dropoff_wkday22: float, hr_dropoff_wkday23: float, hr_pickup_wkend0: float, hr_pickup_wkend1: float, hr_pickup_wkend2: float, hr_pickup_wkend3: float, hr_pickup_wkend4: float, hr_pickup_wkend5: float, hr_pickup_wkend6: float, hr_pickup_wkend7: float, hr_pickup_wkend8: float, hr_pickup_wkend9: float, hr_pickup_wkend10: float, hr_pickup_wkend11: float, hr_pickup_wkend12: float, hr_pickup_wkend13: float, hr_pickup_wkend14: float, hr_pickup_wkend15: float, hr_pickup_wkend16: float, hr_pickup_wkend17: float, hr_pickup_wkend18: float, hr_pickup_wkend19: float, hr_pickup_wkend20: float, hr_pickup_wkend21: float, hr_pickup_wkend22: float, hr_pickup_wkend23: float, hr_dropoff_wkend0: float, hr_dropoff_wkend1: float, hr_dropoff_wkend2: float, hr_dropoff_wkend3: float, hr_dropoff_wkend4: float, hr_dropoff_wkend5: float, hr_dropoff_wkend6: float, hr_dropoff_wkend7: float, hr_dropoff_wkend8: float, hr_dropoff_wkend9: float, hr_dropoff_wkend10: float, hr_dropoff_wkend11: float, hr_dropoff_wkend12: float, hr_dropoff_wkend13: float, hr_dropoff_wkend14: float, hr_dropoff_wkend15: float, hr_dropoff_wkend16: float, hr_dropoff_wkend17: float, hr_dropoff_wkend18: float, hr_dropoff_wkend19: float, hr_dropoff_wkend20: float, hr_dropoff_wkend21: float, hr_dropoff_wkend22: float, hr_dropoff_wkend23: float, avg_pickup_km: float, std_pickup_km: float, avg_dropoff_km: float, std_dropoff_km: float, city: string]"
      ]
     },
     "execution_count": 56,
     "metadata": {},
     "output_type": "execute_result"
    }
   ],
   "source": [
    "nyc_df_cell.unpersist()\n",
    "sf_df_cell.unpersist()"
   ]
  },
  {
   "cell_type": "markdown",
   "metadata": {},
   "source": [
    "`nyc_sf_df_cell` is the final dataframe"
   ]
  }
 ],
 "metadata": {
  "anaconda-cloud": {},
  "kernelspec": {
   "display_name": "Python 3",
   "language": "python",
   "name": "python3"
  },
  "language_info": {
   "codemirror_mode": {
    "name": "ipython",
    "version": 3
   },
   "file_extension": ".py",
   "mimetype": "text/x-python",
   "name": "python",
   "nbconvert_exporter": "python",
   "pygments_lexer": "ipython3",
   "version": "3.6.6"
  },
  "varInspector": {
   "cols": {
    "lenName": 16,
    "lenType": 16,
    "lenVar": 40
   },
   "kernels_config": {
    "python": {
     "delete_cmd_postfix": "",
     "delete_cmd_prefix": "del ",
     "library": "var_list.py",
     "varRefreshCmd": "print(var_dic_list())"
    },
    "r": {
     "delete_cmd_postfix": ") ",
     "delete_cmd_prefix": "rm(",
     "library": "var_list.r",
     "varRefreshCmd": "cat(var_dic_list()) "
    }
   },
   "types_to_exclude": [
    "module",
    "function",
    "builtin_function_or_method",
    "instance",
    "_Feature"
   ],
   "window_display": false
  }
 },
 "nbformat": 4,
 "nbformat_minor": 2
}
