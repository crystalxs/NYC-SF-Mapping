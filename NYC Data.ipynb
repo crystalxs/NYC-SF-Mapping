{
 "cells": [
  {
   "cell_type": "code",
   "execution_count": 1,
   "metadata": {
    "ExecuteTime": {
     "end_time": "2019-01-17T20:26:05.288448Z",
     "start_time": "2019-01-17T20:26:02.232738Z"
    }
   },
   "outputs": [],
   "source": [
    "from pyspark import SparkContext, SparkConf\n",
    "from pyspark.sql import SparkSession\n",
    "from pyspark.sql import Row\n",
    "from pyspark.sql.types import *\n",
    "from pyspark.sql.functions import *\n",
    "from pyspark.sql import SQLContext\n",
    "from pyspark.ml.feature import VectorAssembler\n",
    "from pyspark.ml.evaluation import MulticlassClassificationEvaluator\n",
    "from pyspark.ml.classification import RandomForestClassifier\n",
    "\n",
    "\n",
    "conf = SparkConf().setAppName(\"msds697_project\")\n",
    "sc = SparkContext(conf=conf)\n",
    "sc.setLogLevel(\"OFF\")\n",
    "ss = SparkSession.builder.getOrCreate()"
   ]
  },
  {
   "cell_type": "code",
   "execution_count": 10,
   "metadata": {
    "ExecuteTime": {
     "end_time": "2019-01-17T20:28:00.365552Z",
     "start_time": "2019-01-17T20:28:00.354662Z"
    }
   },
   "outputs": [],
   "source": [
    "def toFloatSafe(v):\n",
    "    try:\n",
    "        return float(v)\n",
    "    except ValueError:\n",
    "        return v"
   ]
  },
  {
   "cell_type": "code",
   "execution_count": 51,
   "metadata": {
    "ExecuteTime": {
     "end_time": "2019-01-17T20:49:35.655707Z",
     "start_time": "2019-01-17T20:49:35.476713Z"
    }
   },
   "outputs": [],
   "source": [
    "nyc_header = \"vendor_name,Trip_Pickup_DateTime,Trip_Dropoff_DateTime,Passenger_Count,Trip_Distance,Start_Lon,Start_Lat,Rate_Code,store_and_forward,End_Lon,End_Lat,Payment_Type,Fare_Amt,surcharge,mta_tax,Tip_Amt,Tolls_Amt,Total_Amt\".split(\",\")\n",
    "nyc_df = sc.textFile(\"/home/julia/Downloads/yellow_tripdata_2009-01.csv\")\\\n",
    "            .map(lambda x:  x.split(\",\"))\\\n",
    "            .filter(lambda x: (len(x) == len(nyc_header)) & (x != nyc_header))\\\n",
    "            .map(lambda x: [toFloatSafe(v) for v in x])\\\n",
    "            .toDF(nyc_header)\n",
    "keep_cols = [\"Trip_Pickup_DateTime\", \"Trip_Dropoff_DateTime\", \"Trip_Distance\", \"Start_Lon\", \"Start_Lat\", \"End_Lon\", \"End_Lat\"]\n",
    "nyc_df = nyc_df.select(keep_cols)"
   ]
  },
  {
   "cell_type": "markdown",
   "metadata": {},
   "source": [
    "Convert strings to datetime"
   ]
  },
  {
   "cell_type": "code",
   "execution_count": 52,
   "metadata": {
    "ExecuteTime": {
     "end_time": "2019-01-17T20:49:37.189928Z",
     "start_time": "2019-01-17T20:49:37.165102Z"
    }
   },
   "outputs": [],
   "source": [
    "def toDatetime(df, col_name):\n",
    "    df = df.withColumn(col_name + \"_2\", to_timestamp(nyc_df[col_name], 'yyyy-MM-dd HH:mm:ss'))\n",
    "    df = df.drop(col_name).withColumnRenamed(col_name + \"_2\", col_name)\n",
    "    return df"
   ]
  },
  {
   "cell_type": "code",
   "execution_count": 53,
   "metadata": {
    "ExecuteTime": {
     "end_time": "2019-01-17T20:49:38.094074Z",
     "start_time": "2019-01-17T20:49:37.985929Z"
    }
   },
   "outputs": [],
   "source": [
    "nyc_df = toDatetime(nyc_df, \"Trip_Pickup_DateTime\")\n",
    "nyc_df = toDatetime(nyc_df, \"Trip_Dropoff_DateTime\")"
   ]
  },
  {
   "cell_type": "markdown",
   "metadata": {
    "ExecuteTime": {
     "end_time": "2019-01-17T20:51:40.753621Z",
     "start_time": "2019-01-17T20:51:40.739197Z"
    }
   },
   "source": [
    "Extract day of week, add \"is_Weekend\" flag when trip starts OR ends during the weekend"
   ]
  },
  {
   "cell_type": "code",
   "execution_count": 65,
   "metadata": {
    "ExecuteTime": {
     "end_time": "2019-01-17T20:52:43.495647Z",
     "start_time": "2019-01-17T20:52:43.480552Z"
    }
   },
   "outputs": [],
   "source": [
    "# Date formats\n",
    "# https://docs.oracle.com/javase/7/docs/api/java/text/SimpleDateFormat.html"
   ]
  },
  {
   "cell_type": "code",
   "execution_count": 66,
   "metadata": {
    "ExecuteTime": {
     "end_time": "2019-01-17T20:53:55.096597Z",
     "start_time": "2019-01-17T20:53:54.747374Z"
    }
   },
   "outputs": [
    {
     "name": "stdout",
     "output_type": "stream",
     "text": [
      "+-------------+----------+---------+----------+---------+--------------------+---------------------+-----------+--------------+----------+-------------+----------+-----------+------------+\n",
      "|Trip_Distance| Start_Lon|Start_Lat|   End_Lon|  End_Lat|Trip_Pickup_DateTime|Trip_Dropoff_DateTime|dow_Dropoff|strdow_Dropoff|dow_Pickup|strdow_Pickup|is_Weekend|hour_Pickup|hour_Dropoff|\n",
      "+-------------+----------+---------+----------+---------+--------------------+---------------------+-----------+--------------+----------+-------------+----------+-----------+------------+\n",
      "|         2.63|-73.991957|40.721567|-73.993803|40.695922| 2009-01-04 02:52:00|  2009-01-04 03:02:00|          7|           Sun|         7|          Sun|         1|          2|           3|\n",
      "|         4.55|-73.982102| 40.73629| -73.95585| 40.76803| 2009-01-04 03:31:00|  2009-01-04 03:38:00|          7|           Sun|         7|          Sun|         1|          3|           3|\n",
      "|        10.35|-74.002587|40.739748|-73.869983|40.770225| 2009-01-03 15:43:00|  2009-01-03 15:57:00|          6|           Sat|         6|          Sat|         1|         15|          15|\n",
      "|          5.0|-73.974267|40.790955|-73.996558|40.731849| 2009-01-01 20:52:58|  2009-01-01 21:14:00|          4|           Thu|         4|          Thu|         0|         20|          21|\n",
      "|          0.4| -74.00158|40.719382|-74.008378| 40.72035| 2009-01-24 16:18:23|  2009-01-24 16:24:56|          6|           Sat|         6|          Sat|         1|         16|          16|\n",
      "|          1.2|-73.989806|40.735006|-73.985021|40.724494| 2009-01-16 22:35:59|  2009-01-16 22:43:35|          5|           Fri|         5|          Fri|         0|         22|          22|\n",
      "|          0.4| -73.98405|40.743544| -73.98026|40.748926| 2009-01-21 08:55:57|  2009-01-21 09:05:42|          3|           Wed|         3|          Wed|         0|          8|           9|\n",
      "|         1.72|-73.992635|40.748362|-73.995585|40.728307| 2009-01-04 04:31:00|  2009-01-04 04:36:00|          7|           Sun|         7|          Sun|         1|          4|           4|\n",
      "|          1.6| -73.96969|40.749244|-73.990413|40.751082| 2009-01-05 16:29:02|  2009-01-05 16:40:21|          1|           Mon|         1|          Mon|         0|         16|          16|\n",
      "|          0.7|-73.955173|40.783044|-73.958598|40.774822| 2009-01-05 18:53:13|  2009-01-05 18:57:45|          1|           Mon|         1|          Mon|         0|         18|          18|\n",
      "+-------------+----------+---------+----------+---------+--------------------+---------------------+-----------+--------------+----------+-------------+----------+-----------+------------+\n",
      "only showing top 10 rows\n",
      "\n"
     ]
    }
   ],
   "source": [
    "nyc_df = nyc_df.withColumn('dow_Dropoff', date_format('Trip_Dropoff_DateTime', 'u').cast(IntegerType()))\\\n",
    ".withColumn('strdow_Dropoff', date_format('Trip_Dropoff_DateTime', 'E'))\\\n",
    ".withColumn('dow_Pickup', date_format('Trip_Pickup_DateTime', 'u').cast(IntegerType()))\\\n",
    ".withColumn('strdow_Pickup', date_format('Trip_Pickup_DateTime', 'E'))\\\n",
    ".withColumn('hour_Pickup', date_format('Trip_Pickup_DateTime', 'H').cast(IntegerType()))\\\n",
    ".withColumn('hour_Dropoff', date_format('Trip_Dropoff_DateTime', 'H').cast(IntegerType()))\n",
    "\n",
    "nyc_df = nyc_df.withColumn(\"is_Weekend\", when((nyc_df.dow_Pickup >= 6) | (nyc_df.dow_Dropoff >= 6), 1).otherwise(0))\n",
    "\n",
    "nyc_df.show(10)"
   ]
  },
  {
   "cell_type": "code",
   "execution_count": 67,
   "metadata": {
    "ExecuteTime": {
     "end_time": "2019-01-17T20:55:29.669567Z",
     "start_time": "2019-01-17T20:55:29.657761Z"
    }
   },
   "outputs": [
    {
     "name": "stdout",
     "output_type": "stream",
     "text": [
      "root\n",
      " |-- Trip_Distance: double (nullable = true)\n",
      " |-- Start_Lon: double (nullable = true)\n",
      " |-- Start_Lat: double (nullable = true)\n",
      " |-- End_Lon: double (nullable = true)\n",
      " |-- End_Lat: double (nullable = true)\n",
      " |-- Trip_Pickup_DateTime: timestamp (nullable = true)\n",
      " |-- Trip_Dropoff_DateTime: timestamp (nullable = true)\n",
      " |-- dow_Dropoff: integer (nullable = true)\n",
      " |-- strdow_Dropoff: string (nullable = true)\n",
      " |-- dow_Pickup: integer (nullable = true)\n",
      " |-- strdow_Pickup: string (nullable = true)\n",
      " |-- is_Weekend: integer (nullable = false)\n",
      " |-- hour_Pickup: integer (nullable = true)\n",
      " |-- hour_Dropoff: integer (nullable = true)\n",
      "\n"
     ]
    }
   ],
   "source": [
    "nyc_df.printSchema()"
   ]
  }
 ],
 "metadata": {
  "kernelspec": {
   "display_name": "Python 3",
   "language": "python",
   "name": "python3"
  },
  "language_info": {
   "codemirror_mode": {
    "name": "ipython",
    "version": 3
   },
   "file_extension": ".py",
   "mimetype": "text/x-python",
   "name": "python",
   "nbconvert_exporter": "python",
   "pygments_lexer": "ipython3",
   "version": "3.6.7"
  }
 },
 "nbformat": 4,
 "nbformat_minor": 2
}
